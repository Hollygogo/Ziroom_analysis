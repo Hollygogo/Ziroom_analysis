{
 "cells": [
  {
   "cell_type": "markdown",
   "metadata": {},
   "source": [
    "# 读取数据"
   ]
  },
  {
   "cell_type": "code",
   "execution_count": 12,
   "metadata": {},
   "outputs": [],
   "source": [
    "import pandas as pd\n",
    "import numpy as np\n",
    "pd.set_option('max_rows', None)\n",
    "pd.set_option('max_columns', None)"
   ]
  },
  {
   "cell_type": "code",
   "execution_count": 13,
   "metadata": {},
   "outputs": [],
   "source": [
    "housing=pd.read_csv('Ziroom_shanghai.csv')"
   ]
  },
  {
   "cell_type": "code",
   "execution_count": 14,
   "metadata": {},
   "outputs": [
    {
     "name": "stdout",
     "output_type": "stream",
     "text": [
      "(1290, 10)\n"
     ]
    },
    {
     "data": {
      "text/html": [
       "<div>\n",
       "<style scoped>\n",
       "    .dataframe tbody tr th:only-of-type {\n",
       "        vertical-align: middle;\n",
       "    }\n",
       "\n",
       "    .dataframe tbody tr th {\n",
       "        vertical-align: top;\n",
       "    }\n",
       "\n",
       "    .dataframe thead th {\n",
       "        text-align: right;\n",
       "    }\n",
       "</style>\n",
       "<table border=\"1\" class=\"dataframe\">\n",
       "  <thead>\n",
       "    <tr style=\"text-align: right;\">\n",
       "      <th></th>\n",
       "      <th>title</th>\n",
       "      <th>type</th>\n",
       "      <th>metro_distance</th>\n",
       "      <th>square</th>\n",
       "      <th>price</th>\n",
       "      <th>floor</th>\n",
       "      <th>floors</th>\n",
       "      <th>district</th>\n",
       "      <th>station</th>\n",
       "    </tr>\n",
       "  </thead>\n",
       "  <tbody>\n",
       "    <tr>\n",
       "      <th>0</th>\n",
       "      <td>合租·地杰国际城F欧香四季4居室-南卧</td>\n",
       "      <td>合租</td>\n",
       "      <td>191</td>\n",
       "      <td>18</td>\n",
       "      <td>3560</td>\n",
       "      <td>14</td>\n",
       "      <td>18</td>\n",
       "      <td>浦东新区</td>\n",
       "      <td>御桥</td>\n",
       "    </tr>\n",
       "    <tr>\n",
       "      <th>1</th>\n",
       "      <td>整租·华升公寓2室1厅-南</td>\n",
       "      <td>整租</td>\n",
       "      <td>150</td>\n",
       "      <td>96</td>\n",
       "      <td>9460</td>\n",
       "      <td>20</td>\n",
       "      <td>34</td>\n",
       "      <td>杨浦区</td>\n",
       "      <td>江浦路</td>\n",
       "    </tr>\n",
       "    <tr>\n",
       "      <th>2</th>\n",
       "      <td>合租·博爱家园4居室-南卧</td>\n",
       "      <td>合租</td>\n",
       "      <td>234</td>\n",
       "      <td>17</td>\n",
       "      <td>3290</td>\n",
       "      <td>6</td>\n",
       "      <td>6</td>\n",
       "      <td>浦东新区</td>\n",
       "      <td>高科西路</td>\n",
       "    </tr>\n",
       "    <tr>\n",
       "      <th>3</th>\n",
       "      <td>合租·紫叶花园东园4居室-南卧</td>\n",
       "      <td>合租</td>\n",
       "      <td>216</td>\n",
       "      <td>17</td>\n",
       "      <td>3030</td>\n",
       "      <td>5</td>\n",
       "      <td>6</td>\n",
       "      <td>浦东新区</td>\n",
       "      <td>北蔡</td>\n",
       "    </tr>\n",
       "    <tr>\n",
       "      <th>4</th>\n",
       "      <td>合租·仁和苑4居室-南卧</td>\n",
       "      <td>合租</td>\n",
       "      <td>243</td>\n",
       "      <td>17</td>\n",
       "      <td>3990</td>\n",
       "      <td>7</td>\n",
       "      <td>12</td>\n",
       "      <td>杨浦区</td>\n",
       "      <td>江湾体育场</td>\n",
       "    </tr>\n",
       "  </tbody>\n",
       "</table>\n",
       "</div>"
      ],
      "text/plain": [
       "                 title type  metro_distance  square  price  floor  floors  \\\n",
       "0  合租·地杰国际城F欧香四季4居室-南卧   合租             191      18   3560     14      18   \n",
       "1        整租·华升公寓2室1厅-南   整租             150      96   9460     20      34   \n",
       "2        合租·博爱家园4居室-南卧   合租             234      17   3290      6       6   \n",
       "3      合租·紫叶花园东园4居室-南卧   合租             216      17   3030      5       6   \n",
       "4         合租·仁和苑4居室-南卧   合租             243      17   3990      7      12   \n",
       "\n",
       "  district station  \n",
       "0     浦东新区      御桥  \n",
       "1      杨浦区     江浦路  \n",
       "2     浦东新区    高科西路  \n",
       "3     浦东新区      北蔡  \n",
       "4      杨浦区   江湾体育场  "
      ]
     },
     "execution_count": 14,
     "metadata": {},
     "output_type": "execute_result"
    }
   ],
   "source": [
    "print(housing.shape)\n",
    "housing.drop('Unnamed: 0',axis=1,inplace=True)\n",
    "housing.head()"
   ]
  },
  {
   "cell_type": "code",
   "execution_count": 15,
   "metadata": {},
   "outputs": [
    {
     "data": {
      "text/html": [
       "<div>\n",
       "<style scoped>\n",
       "    .dataframe tbody tr th:only-of-type {\n",
       "        vertical-align: middle;\n",
       "    }\n",
       "\n",
       "    .dataframe tbody tr th {\n",
       "        vertical-align: top;\n",
       "    }\n",
       "\n",
       "    .dataframe thead th {\n",
       "        text-align: right;\n",
       "    }\n",
       "</style>\n",
       "<table border=\"1\" class=\"dataframe\">\n",
       "  <thead>\n",
       "    <tr style=\"text-align: right;\">\n",
       "      <th></th>\n",
       "      <th>metro_distance</th>\n",
       "      <th>square</th>\n",
       "      <th>price</th>\n",
       "    </tr>\n",
       "  </thead>\n",
       "  <tbody>\n",
       "    <tr>\n",
       "      <th>0</th>\n",
       "      <td>191</td>\n",
       "      <td>18</td>\n",
       "      <td>3560</td>\n",
       "    </tr>\n",
       "    <tr>\n",
       "      <th>1</th>\n",
       "      <td>150</td>\n",
       "      <td>96</td>\n",
       "      <td>9460</td>\n",
       "    </tr>\n",
       "    <tr>\n",
       "      <th>2</th>\n",
       "      <td>234</td>\n",
       "      <td>17</td>\n",
       "      <td>3290</td>\n",
       "    </tr>\n",
       "    <tr>\n",
       "      <th>3</th>\n",
       "      <td>216</td>\n",
       "      <td>17</td>\n",
       "      <td>3030</td>\n",
       "    </tr>\n",
       "    <tr>\n",
       "      <th>4</th>\n",
       "      <td>243</td>\n",
       "      <td>17</td>\n",
       "      <td>3990</td>\n",
       "    </tr>\n",
       "  </tbody>\n",
       "</table>\n",
       "</div>"
      ],
      "text/plain": [
       "   metro_distance  square  price\n",
       "0             191      18   3560\n",
       "1             150      96   9460\n",
       "2             234      17   3290\n",
       "3             216      17   3030\n",
       "4             243      17   3990"
      ]
     },
     "execution_count": 15,
     "metadata": {},
     "output_type": "execute_result"
    }
   ],
   "source": [
    "housing_num = housing[['metro_distance','square','price']]\n",
    "housing_num.head()"
   ]
  },
  {
   "cell_type": "code",
   "execution_count": 16,
   "metadata": {},
   "outputs": [
    {
     "data": {
      "text/html": [
       "<div>\n",
       "<style scoped>\n",
       "    .dataframe tbody tr th:only-of-type {\n",
       "        vertical-align: middle;\n",
       "    }\n",
       "\n",
       "    .dataframe tbody tr th {\n",
       "        vertical-align: top;\n",
       "    }\n",
       "\n",
       "    .dataframe thead th {\n",
       "        text-align: right;\n",
       "    }\n",
       "</style>\n",
       "<table border=\"1\" class=\"dataframe\">\n",
       "  <thead>\n",
       "    <tr style=\"text-align: right;\">\n",
       "      <th></th>\n",
       "      <th>district</th>\n",
       "      <th>type</th>\n",
       "    </tr>\n",
       "  </thead>\n",
       "  <tbody>\n",
       "    <tr>\n",
       "      <th>0</th>\n",
       "      <td>浦东新区</td>\n",
       "      <td>合租</td>\n",
       "    </tr>\n",
       "    <tr>\n",
       "      <th>1</th>\n",
       "      <td>杨浦区</td>\n",
       "      <td>整租</td>\n",
       "    </tr>\n",
       "    <tr>\n",
       "      <th>2</th>\n",
       "      <td>浦东新区</td>\n",
       "      <td>合租</td>\n",
       "    </tr>\n",
       "    <tr>\n",
       "      <th>3</th>\n",
       "      <td>浦东新区</td>\n",
       "      <td>合租</td>\n",
       "    </tr>\n",
       "    <tr>\n",
       "      <th>4</th>\n",
       "      <td>杨浦区</td>\n",
       "      <td>合租</td>\n",
       "    </tr>\n",
       "  </tbody>\n",
       "</table>\n",
       "</div>"
      ],
      "text/plain": [
       "  district type\n",
       "0     浦东新区   合租\n",
       "1      杨浦区   整租\n",
       "2     浦东新区   合租\n",
       "3     浦东新区   合租\n",
       "4      杨浦区   合租"
      ]
     },
     "execution_count": 16,
     "metadata": {},
     "output_type": "execute_result"
    }
   ],
   "source": [
    "housing_cat = housing[['district','type']]\n",
    "housing_cat.head()"
   ]
  },
  {
   "cell_type": "markdown",
   "metadata": {},
   "source": [
    "# 聚类分析"
   ]
  },
  {
   "cell_type": "markdown",
   "metadata": {},
   "source": [
    "**- 流水线特征缩放**"
   ]
  },
  {
   "cell_type": "code",
   "execution_count": 17,
   "metadata": {},
   "outputs": [],
   "source": [
    "from sklearn.pipeline import Pipeline\n",
    "from sklearn.preprocessing import StandardScaler\n",
    "from sklearn.preprocessing import OneHotEncoder\n",
    "from sklearn.impute import SimpleImputer\n",
    "\n",
    "num_pipeline = Pipeline([('imputer', SimpleImputer(strategy=\"median\")), ('std_scaler', StandardScaler())])"
   ]
  },
  {
   "cell_type": "code",
   "execution_count": 18,
   "metadata": {},
   "outputs": [
    {
     "data": {
      "text/plain": [
       "array([[ 191.,   18., 3560.],\n",
       "       [ 150.,   96., 9460.],\n",
       "       [ 234.,   17., 3290.],\n",
       "       [ 216.,   17., 3030.],\n",
       "       [ 243.,   17., 3990.]])"
      ]
     },
     "execution_count": 18,
     "metadata": {},
     "output_type": "execute_result"
    }
   ],
   "source": [
    "ss=StandardScaler()\n",
    "housing_num_tr = ss.fit_transform(housing_num)\n",
    "ss.inverse_transform(housing_num_tr,copy=True)[:5]"
   ]
  },
  {
   "cell_type": "markdown",
   "metadata": {},
   "source": [
    "**- 数值&类别流水线**"
   ]
  },
  {
   "cell_type": "code",
   "execution_count": 20,
   "metadata": {},
   "outputs": [],
   "source": [
    "from sklearn.compose import ColumnTransformer"
   ]
  },
  {
   "cell_type": "code",
   "execution_count": 21,
   "metadata": {},
   "outputs": [
    {
     "data": {
      "text/plain": [
       "array([[-1.16786351,  0.06475401,  0.45139146, ...,  0.        ,\n",
       "         1.        ,  0.        ],\n",
       "       [-1.2894726 ,  7.44363124,  5.90315914, ...,  0.        ,\n",
       "         0.        ,  1.        ],\n",
       "       [-1.04032226, -0.02984698,  0.20190379, ...,  0.        ,\n",
       "         1.        ,  0.        ],\n",
       "       ...,\n",
       "       [-0.32253197, -0.31364995,  0.63619715, ...,  0.        ,\n",
       "         1.        ,  0.        ],\n",
       "       [-1.18862604, -0.50285193, -0.13074644, ...,  0.        ,\n",
       "         1.        ,  0.        ],\n",
       "       [-0.25727831, -0.50285193, -0.26011042, ...,  0.        ,\n",
       "         1.        ,  0.        ]])"
      ]
     },
     "execution_count": 21,
     "metadata": {},
     "output_type": "execute_result"
    }
   ],
   "source": [
    "num_attribs = list(housing_num)\n",
    "cat_attribs = ['district','type']\n",
    "\n",
    "full_pipeline = ColumnTransformer([\n",
    "    (\"num\", num_pipeline, num_attribs),\n",
    "    (\"cat\", OneHotEncoder(), cat_attribs),\n",
    "    ])\n",
    "\n",
    "housing_prepared = full_pipeline.fit_transform(housing).toarray()\n",
    "housing_prepared"
   ]
  },
  {
   "cell_type": "code",
   "execution_count": 22,
   "metadata": {},
   "outputs": [
    {
     "name": "stderr",
     "output_type": "stream",
     "text": [
      "/opt/anaconda3/lib/python3.8/site-packages/sklearn/cluster/_kmeans.py:973: FutureWarning: 'n_jobs' was deprecated in version 0.23 and will be removed in 0.25.\n",
      "  warnings.warn(\"'n_jobs' was deprecated in version 0.23 and will be\"\n"
     ]
    },
    {
     "data": {
      "text/plain": [
       "KMeans(n_clusters=5, n_jobs=4)"
      ]
     },
     "execution_count": 22,
     "metadata": {},
     "output_type": "execute_result"
    }
   ],
   "source": [
    "from sklearn.cluster import KMeans # 导入Kmeans\n",
    "k=5 # 聚类类别数\n",
    "kmodel = KMeans(n_clusters=k,n_jobs=4)\n",
    "kmodel.fit(housing_prepared)"
   ]
  },
  {
   "cell_type": "code",
   "execution_count": 23,
   "metadata": {},
   "outputs": [
    {
     "data": {
      "text/plain": [
       "array([[ 191.,   18., 3560.],\n",
       "       [ 150.,   96., 9460.],\n",
       "       [ 234.,   17., 3290.],\n",
       "       [ 216.,   17., 3030.],\n",
       "       [ 243.,   17., 3990.]])"
      ]
     },
     "execution_count": 23,
     "metadata": {},
     "output_type": "execute_result"
    }
   ],
   "source": [
    "ss=StandardScaler()\n",
    "housing_num_tr = ss.fit_transform(housing_num)\n",
    "ss.inverse_transform(housing_num_tr,copy=True)[:5]"
   ]
  },
  {
   "cell_type": "markdown",
   "metadata": {},
   "source": [
    "**- 聚类结果前三列**"
   ]
  },
  {
   "cell_type": "code",
   "execution_count": 91,
   "metadata": {},
   "outputs": [
    {
     "name": "stderr",
     "output_type": "stream",
     "text": [
      "C:\\Users\\86183\\anaconda3\\lib\\site-packages\\sklearn\\cluster\\_kmeans.py:973: FutureWarning: 'n_jobs' was deprecated in version 0.23 and will be removed in 0.25.\n",
      "  warnings.warn(\"'n_jobs' was deprecated in version 0.23 and will be\"\n"
     ]
    },
    {
     "data": {
      "text/plain": [
       "KMeans(n_clusters=3, n_jobs=4)"
      ]
     },
     "execution_count": 91,
     "metadata": {},
     "output_type": "execute_result"
    }
   ],
   "source": [
    "from sklearn.cluster import KMeans # 导入Kmeans\n",
    "k=5 # 聚类类别数\n",
    "kmodel = KMeans(n_clusters=k, n_jobs=4)\n",
    "kmodel.fit(housing_prepared)"
   ]
  },
  {
   "cell_type": "code",
   "execution_count": 25,
   "metadata": {},
   "outputs": [
    {
     "data": {
      "text/plain": [
       "array([[ 1.62129282,  0.06600424, -0.48720974],\n",
       "       [-0.51512862, -0.22916671, -0.73526856],\n",
       "       [-0.34032843,  7.79247239,  5.09578931],\n",
       "       [-0.78067842, -0.15743048,  0.60188323],\n",
       "       [ 0.39247822,  0.01417526,  0.26850703]])"
      ]
     },
     "execution_count": 25,
     "metadata": {},
     "output_type": "execute_result"
    }
   ],
   "source": [
    "kmodel.cluster_centers_[0:5,:3]"
   ]
  },
  {
   "cell_type": "markdown",
   "metadata": {},
   "source": [
    "**- 聚类结果反特征缩放**"
   ]
  },
  {
   "cell_type": "code",
   "execution_count": 26,
   "metadata": {},
   "outputs": [
    {
     "data": {
      "text/plain": [
       "array([[1131.35242291,   18.01321586, 2544.22907489],\n",
       "       [ 411.06684492,   14.89304813, 2275.77540107],\n",
       "       [ 470.        ,   99.6875    , 8586.25      ],\n",
       "       [ 321.53783784,   15.65135135, 3722.86486486],\n",
       "       [ 717.06270627,   17.46534653, 3362.07920792]])"
      ]
     },
     "execution_count": 26,
     "metadata": {},
     "output_type": "execute_result"
    }
   ],
   "source": [
    "ss.inverse_transform(kmodel.cluster_centers_[0:5,:3],copy=True)"
   ]
  },
  {
   "cell_type": "markdown",
   "metadata": {},
   "source": [
    "三项分别为：离地铁的距离，房屋面积，租房价格"
   ]
  },
  {
   "cell_type": "markdown",
   "metadata": {},
   "source": [
    "**- 将聚类类别插入df**"
   ]
  },
  {
   "cell_type": "code",
   "execution_count": 29,
   "metadata": {},
   "outputs": [
    {
     "data": {
      "text/html": [
       "<div>\n",
       "<style scoped>\n",
       "    .dataframe tbody tr th:only-of-type {\n",
       "        vertical-align: middle;\n",
       "    }\n",
       "\n",
       "    .dataframe tbody tr th {\n",
       "        vertical-align: top;\n",
       "    }\n",
       "\n",
       "    .dataframe thead th {\n",
       "        text-align: right;\n",
       "    }\n",
       "</style>\n",
       "<table border=\"1\" class=\"dataframe\">\n",
       "  <thead>\n",
       "    <tr style=\"text-align: right;\">\n",
       "      <th></th>\n",
       "      <th>title</th>\n",
       "      <th>type</th>\n",
       "      <th>metro_distance</th>\n",
       "      <th>square</th>\n",
       "      <th>price</th>\n",
       "      <th>floor</th>\n",
       "      <th>floors</th>\n",
       "      <th>district</th>\n",
       "      <th>station</th>\n",
       "      <th>聚类类别</th>\n",
       "    </tr>\n",
       "  </thead>\n",
       "  <tbody>\n",
       "    <tr>\n",
       "      <th>0</th>\n",
       "      <td>合租·地杰国际城F欧香四季4居室-南卧</td>\n",
       "      <td>合租</td>\n",
       "      <td>191</td>\n",
       "      <td>18</td>\n",
       "      <td>3560</td>\n",
       "      <td>14</td>\n",
       "      <td>18</td>\n",
       "      <td>浦东新区</td>\n",
       "      <td>御桥</td>\n",
       "      <td>3</td>\n",
       "    </tr>\n",
       "    <tr>\n",
       "      <th>1</th>\n",
       "      <td>整租·华升公寓2室1厅-南</td>\n",
       "      <td>整租</td>\n",
       "      <td>150</td>\n",
       "      <td>96</td>\n",
       "      <td>9460</td>\n",
       "      <td>20</td>\n",
       "      <td>34</td>\n",
       "      <td>杨浦区</td>\n",
       "      <td>江浦路</td>\n",
       "      <td>2</td>\n",
       "    </tr>\n",
       "    <tr>\n",
       "      <th>2</th>\n",
       "      <td>合租·博爱家园4居室-南卧</td>\n",
       "      <td>合租</td>\n",
       "      <td>234</td>\n",
       "      <td>17</td>\n",
       "      <td>3290</td>\n",
       "      <td>6</td>\n",
       "      <td>6</td>\n",
       "      <td>浦东新区</td>\n",
       "      <td>高科西路</td>\n",
       "      <td>3</td>\n",
       "    </tr>\n",
       "    <tr>\n",
       "      <th>3</th>\n",
       "      <td>合租·紫叶花园东园4居室-南卧</td>\n",
       "      <td>合租</td>\n",
       "      <td>216</td>\n",
       "      <td>17</td>\n",
       "      <td>3030</td>\n",
       "      <td>5</td>\n",
       "      <td>6</td>\n",
       "      <td>浦东新区</td>\n",
       "      <td>北蔡</td>\n",
       "      <td>3</td>\n",
       "    </tr>\n",
       "    <tr>\n",
       "      <th>4</th>\n",
       "      <td>合租·仁和苑4居室-南卧</td>\n",
       "      <td>合租</td>\n",
       "      <td>243</td>\n",
       "      <td>17</td>\n",
       "      <td>3990</td>\n",
       "      <td>7</td>\n",
       "      <td>12</td>\n",
       "      <td>杨浦区</td>\n",
       "      <td>江湾体育场</td>\n",
       "      <td>3</td>\n",
       "    </tr>\n",
       "  </tbody>\n",
       "</table>\n",
       "</div>"
      ],
      "text/plain": [
       "                 title type  metro_distance  square  price  floor  floors  \\\n",
       "0  合租·地杰国际城F欧香四季4居室-南卧   合租             191      18   3560     14      18   \n",
       "1        整租·华升公寓2室1厅-南   整租             150      96   9460     20      34   \n",
       "2        合租·博爱家园4居室-南卧   合租             234      17   3290      6       6   \n",
       "3      合租·紫叶花园东园4居室-南卧   合租             216      17   3030      5       6   \n",
       "4         合租·仁和苑4居室-南卧   合租             243      17   3990      7      12   \n",
       "\n",
       "  district station  聚类类别  \n",
       "0     浦东新区      御桥     3  \n",
       "1      杨浦区     江浦路     2  \n",
       "2     浦东新区    高科西路     3  \n",
       "3     浦东新区      北蔡     3  \n",
       "4      杨浦区   江湾体育场     3  "
      ]
     },
     "execution_count": 29,
     "metadata": {},
     "output_type": "execute_result"
    }
   ],
   "source": [
    "from pandas import Series\n",
    "housing_data = housing.copy()\n",
    "\n",
    "label = Series(kmodel.labels_,index=housing_data.index)\n",
    "housing_data.insert(9,'聚类类别',label)\n",
    "housing_data.head()"
   ]
  },
  {
   "cell_type": "markdown",
   "metadata": {},
   "source": [
    "**- 转换为房屋等级**"
   ]
  },
  {
   "cell_type": "code",
   "execution_count": 30,
   "metadata": {},
   "outputs": [],
   "source": [
    "c = pd.DataFrame(kmodel.cluster_centers_).sort_values(2)\n",
    "c['房屋等级']=['交通不便普通','交通一般普通','交通便利普通','高端房源','豪宅']"
   ]
  },
  {
   "cell_type": "code",
   "execution_count": 32,
   "metadata": {},
   "outputs": [],
   "source": [
    "labels = c\n",
    "expensive = labels[labels['房屋等级']=='豪宅'].index[0]\n",
    "high = labels[labels['房屋等级']=='高端房源'].index[0]\n",
    "mid = labels[labels['房屋等级']=='交通便利普通'].index[0]\n",
    "normal = labels[labels['房屋等级']=='交通一般普通'].index[0]\n",
    "low = labels[labels['房屋等级']=='交通不便普通'].index[0]"
   ]
  },
  {
   "cell_type": "code",
   "execution_count": 33,
   "metadata": {},
   "outputs": [],
   "source": [
    "kmeans_type_shift = {\n",
    "    expensive:'豪宅',\n",
    "    high:'高端房源',\n",
    "    mid:'交通便利普通',\n",
    "    normal:'交通一般普通',\n",
    "    low:'交通不便普通'\n",
    "}\n",
    "housing_data['聚类类别'] = housing_data['聚类类别'].map(kmeans_type_shift)"
   ]
  },
  {
   "cell_type": "code",
   "execution_count": 38,
   "metadata": {},
   "outputs": [
    {
     "data": {
      "text/html": [
       "<div>\n",
       "<style scoped>\n",
       "    .dataframe tbody tr th:only-of-type {\n",
       "        vertical-align: middle;\n",
       "    }\n",
       "\n",
       "    .dataframe tbody tr th {\n",
       "        vertical-align: top;\n",
       "    }\n",
       "\n",
       "    .dataframe thead th {\n",
       "        text-align: right;\n",
       "    }\n",
       "</style>\n",
       "<table border=\"1\" class=\"dataframe\">\n",
       "  <thead>\n",
       "    <tr style=\"text-align: right;\">\n",
       "      <th></th>\n",
       "      <th>district</th>\n",
       "      <th>type</th>\n",
       "      <th>metro_distance</th>\n",
       "      <th>square</th>\n",
       "      <th>price</th>\n",
       "      <th>聚类类别</th>\n",
       "    </tr>\n",
       "  </thead>\n",
       "  <tbody>\n",
       "    <tr>\n",
       "      <th>0</th>\n",
       "      <td>浦东新区</td>\n",
       "      <td>合租</td>\n",
       "      <td>191</td>\n",
       "      <td>18</td>\n",
       "      <td>3560</td>\n",
       "      <td>高端房源</td>\n",
       "    </tr>\n",
       "    <tr>\n",
       "      <th>1</th>\n",
       "      <td>杨浦区</td>\n",
       "      <td>整租</td>\n",
       "      <td>150</td>\n",
       "      <td>96</td>\n",
       "      <td>9460</td>\n",
       "      <td>豪宅</td>\n",
       "    </tr>\n",
       "    <tr>\n",
       "      <th>2</th>\n",
       "      <td>浦东新区</td>\n",
       "      <td>合租</td>\n",
       "      <td>234</td>\n",
       "      <td>17</td>\n",
       "      <td>3290</td>\n",
       "      <td>高端房源</td>\n",
       "    </tr>\n",
       "    <tr>\n",
       "      <th>3</th>\n",
       "      <td>浦东新区</td>\n",
       "      <td>合租</td>\n",
       "      <td>216</td>\n",
       "      <td>17</td>\n",
       "      <td>3030</td>\n",
       "      <td>高端房源</td>\n",
       "    </tr>\n",
       "    <tr>\n",
       "      <th>4</th>\n",
       "      <td>杨浦区</td>\n",
       "      <td>合租</td>\n",
       "      <td>243</td>\n",
       "      <td>17</td>\n",
       "      <td>3990</td>\n",
       "      <td>高端房源</td>\n",
       "    </tr>\n",
       "    <tr>\n",
       "      <th>5</th>\n",
       "      <td>静安区</td>\n",
       "      <td>合租</td>\n",
       "      <td>686</td>\n",
       "      <td>19</td>\n",
       "      <td>3490</td>\n",
       "      <td>交通便利普通</td>\n",
       "    </tr>\n",
       "    <tr>\n",
       "      <th>6</th>\n",
       "      <td>虹口区</td>\n",
       "      <td>合租</td>\n",
       "      <td>444</td>\n",
       "      <td>18</td>\n",
       "      <td>3290</td>\n",
       "      <td>高端房源</td>\n",
       "    </tr>\n",
       "    <tr>\n",
       "      <th>7</th>\n",
       "      <td>浦东新区</td>\n",
       "      <td>合租</td>\n",
       "      <td>197</td>\n",
       "      <td>19</td>\n",
       "      <td>2630</td>\n",
       "      <td>交通不便普通</td>\n",
       "    </tr>\n",
       "    <tr>\n",
       "      <th>8</th>\n",
       "      <td>松江区</td>\n",
       "      <td>合租</td>\n",
       "      <td>150</td>\n",
       "      <td>21</td>\n",
       "      <td>2460</td>\n",
       "      <td>交通不便普通</td>\n",
       "    </tr>\n",
       "    <tr>\n",
       "      <th>9</th>\n",
       "      <td>松江区</td>\n",
       "      <td>合租</td>\n",
       "      <td>150</td>\n",
       "      <td>26</td>\n",
       "      <td>3960</td>\n",
       "      <td>高端房源</td>\n",
       "    </tr>\n",
       "  </tbody>\n",
       "</table>\n",
       "</div>"
      ],
      "text/plain": [
       "  district type  metro_distance  square  price    聚类类别\n",
       "0     浦东新区   合租             191      18   3560    高端房源\n",
       "1      杨浦区   整租             150      96   9460      豪宅\n",
       "2     浦东新区   合租             234      17   3290    高端房源\n",
       "3     浦东新区   合租             216      17   3030    高端房源\n",
       "4      杨浦区   合租             243      17   3990    高端房源\n",
       "5      静安区   合租             686      19   3490  交通便利普通\n",
       "6      虹口区   合租             444      18   3290    高端房源\n",
       "7     浦东新区   合租             197      19   2630  交通不便普通\n",
       "8      松江区   合租             150      21   2460  交通不便普通\n",
       "9      松江区   合租             150      26   3960    高端房源"
      ]
     },
     "execution_count": 38,
     "metadata": {},
     "output_type": "execute_result"
    }
   ],
   "source": [
    "housing_data=housing_data[['district','type','metro_distance','square','price','聚类类别']]\n",
    "housing_data.head(10)"
   ]
  },
  {
   "cell_type": "code",
   "execution_count": 39,
   "metadata": {},
   "outputs": [],
   "source": [
    "housing_data.to_csv('housing_type.csv')"
   ]
  },
  {
   "cell_type": "markdown",
   "metadata": {},
   "source": [
    "**- 上海各行政区房源**"
   ]
  },
  {
   "cell_type": "code",
   "execution_count": 40,
   "metadata": {},
   "outputs": [],
   "source": [
    "#grouped_house\n",
    "grouped_house = housing_data[['metro_distance','square','price']].groupby(housing_data['聚类类别'])"
   ]
  },
  {
   "cell_type": "code",
   "execution_count": 41,
   "metadata": {},
   "outputs": [
    {
     "data": {
      "text/html": [
       "<div>\n",
       "<style scoped>\n",
       "    .dataframe tbody tr th:only-of-type {\n",
       "        vertical-align: middle;\n",
       "    }\n",
       "\n",
       "    .dataframe tbody tr th {\n",
       "        vertical-align: top;\n",
       "    }\n",
       "\n",
       "    .dataframe thead th {\n",
       "        text-align: right;\n",
       "    }\n",
       "</style>\n",
       "<table border=\"1\" class=\"dataframe\">\n",
       "  <thead>\n",
       "    <tr style=\"text-align: right;\">\n",
       "      <th></th>\n",
       "      <th>metro_distance</th>\n",
       "      <th>square</th>\n",
       "      <th>price</th>\n",
       "    </tr>\n",
       "    <tr>\n",
       "      <th>聚类类别</th>\n",
       "      <th></th>\n",
       "      <th></th>\n",
       "      <th></th>\n",
       "    </tr>\n",
       "  </thead>\n",
       "  <tbody>\n",
       "    <tr>\n",
       "      <th>交通不便普通</th>\n",
       "      <td>411.07</td>\n",
       "      <td>14.89</td>\n",
       "      <td>2275.78</td>\n",
       "    </tr>\n",
       "    <tr>\n",
       "      <th>交通一般普通</th>\n",
       "      <td>1131.35</td>\n",
       "      <td>18.01</td>\n",
       "      <td>2544.23</td>\n",
       "    </tr>\n",
       "    <tr>\n",
       "      <th>交通便利普通</th>\n",
       "      <td>716.23</td>\n",
       "      <td>17.46</td>\n",
       "      <td>3361.64</td>\n",
       "    </tr>\n",
       "    <tr>\n",
       "      <th>高端房源</th>\n",
       "      <td>321.15</td>\n",
       "      <td>15.65</td>\n",
       "      <td>3724.20</td>\n",
       "    </tr>\n",
       "    <tr>\n",
       "      <th>豪宅</th>\n",
       "      <td>470.00</td>\n",
       "      <td>99.69</td>\n",
       "      <td>8586.25</td>\n",
       "    </tr>\n",
       "  </tbody>\n",
       "</table>\n",
       "</div>"
      ],
      "text/plain": [
       "        metro_distance  square    price\n",
       "聚类类别                                   \n",
       "交通不便普通          411.07   14.89  2275.78\n",
       "交通一般普通         1131.35   18.01  2544.23\n",
       "交通便利普通          716.23   17.46  3361.64\n",
       "高端房源            321.15   15.65  3724.20\n",
       "豪宅              470.00   99.69  8586.25"
      ]
     },
     "execution_count": 41,
     "metadata": {},
     "output_type": "execute_result"
    }
   ],
   "source": [
    "grouped_house.mean().sort_values(by='price',ascending=True).round(2)"
   ]
  },
  {
   "cell_type": "code",
   "execution_count": 43,
   "metadata": {},
   "outputs": [
    {
     "data": {
      "text/plain": [
       "浦东新区    364\n",
       "普陀区     163\n",
       "闵行区     138\n",
       "宝山区     103\n",
       "嘉定区      85\n",
       "长宁区      85\n",
       "徐汇区      69\n",
       "松江区      62\n",
       "杨浦区      61\n",
       "静安区      59\n",
       "虹口区      47\n",
       "黄浦区      38\n",
       "青浦区      16\n",
       "Name: district, dtype: int64"
      ]
     },
     "execution_count": 43,
     "metadata": {},
     "output_type": "execute_result"
    }
   ],
   "source": [
    "housing_data['district'].value_counts() # 各区房源总数"
   ]
  },
  {
   "cell_type": "code",
   "execution_count": 44,
   "metadata": {},
   "outputs": [],
   "source": [
    "low_type = housing_data[housing_data['聚类类别']=='交通不便普通']['district'].value_counts()\n",
    "normal_type = housing_data[housing_data['聚类类别']=='交通一般普通']['district'].value_counts()\n",
    "mid_type = housing_data[housing_data['聚类类别']=='交通便利普通']['district'].value_counts()\n",
    "high_type = housing_data[housing_data['聚类类别']=='高端房源']['district'].value_counts()\n",
    "expensive_type = housing_data[housing_data['聚类类别']=='豪宅']['district'].value_counts()"
   ]
  },
  {
   "cell_type": "code",
   "execution_count": 45,
   "metadata": {},
   "outputs": [],
   "source": [
    "low_type = Series(low_type)\n",
    "normal_type = Series(normal_type)\n",
    "mid_type = Series(mid_type)\n",
    "high_type = Series(high_type)\n",
    "expensive_type = Series(expensive_type)"
   ]
  },
  {
   "cell_type": "code",
   "execution_count": 47,
   "metadata": {},
   "outputs": [],
   "source": [
    "temp_pd = pd.DataFrame(housing_data['district'].value_counts())"
   ]
  },
  {
   "cell_type": "code",
   "execution_count": 48,
   "metadata": {},
   "outputs": [],
   "source": [
    "# '交通不便普通','交通一般普通','交通便利普通','高端房源','豪宅'\n",
    "temp_pd.insert(1,'交通不便普通',low_type)\n",
    "temp_pd.insert(2,'交通一般普通',normal_type)\n",
    "temp_pd.insert(3,'交通便利普通',mid_type)\n",
    "temp_pd.insert(4,'高端房源',high_type)\n",
    "temp_pd.insert(5,'豪宅',expensive_type)"
   ]
  },
  {
   "cell_type": "code",
   "execution_count": 49,
   "metadata": {},
   "outputs": [],
   "source": [
    "shanghai_housing = temp_pd.fillna(0).astype(int)"
   ]
  },
  {
   "cell_type": "code",
   "execution_count": 50,
   "metadata": {},
   "outputs": [
    {
     "data": {
      "text/html": [
       "<div>\n",
       "<style scoped>\n",
       "    .dataframe tbody tr th:only-of-type {\n",
       "        vertical-align: middle;\n",
       "    }\n",
       "\n",
       "    .dataframe tbody tr th {\n",
       "        vertical-align: top;\n",
       "    }\n",
       "\n",
       "    .dataframe thead th {\n",
       "        text-align: right;\n",
       "    }\n",
       "</style>\n",
       "<table border=\"1\" class=\"dataframe\">\n",
       "  <thead>\n",
       "    <tr style=\"text-align: right;\">\n",
       "      <th></th>\n",
       "      <th>district</th>\n",
       "      <th>交通不便普通</th>\n",
       "      <th>交通一般普通</th>\n",
       "      <th>交通便利普通</th>\n",
       "      <th>高端房源</th>\n",
       "      <th>豪宅</th>\n",
       "    </tr>\n",
       "  </thead>\n",
       "  <tbody>\n",
       "    <tr>\n",
       "      <th>浦东新区</th>\n",
       "      <td>364</td>\n",
       "      <td>91</td>\n",
       "      <td>65</td>\n",
       "      <td>116</td>\n",
       "      <td>91</td>\n",
       "      <td>1</td>\n",
       "    </tr>\n",
       "    <tr>\n",
       "      <th>普陀区</th>\n",
       "      <td>163</td>\n",
       "      <td>18</td>\n",
       "      <td>16</td>\n",
       "      <td>39</td>\n",
       "      <td>87</td>\n",
       "      <td>3</td>\n",
       "    </tr>\n",
       "    <tr>\n",
       "      <th>闵行区</th>\n",
       "      <td>138</td>\n",
       "      <td>75</td>\n",
       "      <td>39</td>\n",
       "      <td>12</td>\n",
       "      <td>10</td>\n",
       "      <td>2</td>\n",
       "    </tr>\n",
       "    <tr>\n",
       "      <th>宝山区</th>\n",
       "      <td>103</td>\n",
       "      <td>60</td>\n",
       "      <td>36</td>\n",
       "      <td>5</td>\n",
       "      <td>0</td>\n",
       "      <td>2</td>\n",
       "    </tr>\n",
       "    <tr>\n",
       "      <th>嘉定区</th>\n",
       "      <td>85</td>\n",
       "      <td>53</td>\n",
       "      <td>29</td>\n",
       "      <td>1</td>\n",
       "      <td>0</td>\n",
       "      <td>2</td>\n",
       "    </tr>\n",
       "    <tr>\n",
       "      <th>长宁区</th>\n",
       "      <td>85</td>\n",
       "      <td>0</td>\n",
       "      <td>5</td>\n",
       "      <td>45</td>\n",
       "      <td>34</td>\n",
       "      <td>1</td>\n",
       "    </tr>\n",
       "    <tr>\n",
       "      <th>徐汇区</th>\n",
       "      <td>69</td>\n",
       "      <td>1</td>\n",
       "      <td>2</td>\n",
       "      <td>17</td>\n",
       "      <td>48</td>\n",
       "      <td>1</td>\n",
       "    </tr>\n",
       "    <tr>\n",
       "      <th>松江区</th>\n",
       "      <td>62</td>\n",
       "      <td>43</td>\n",
       "      <td>15</td>\n",
       "      <td>2</td>\n",
       "      <td>2</td>\n",
       "      <td>0</td>\n",
       "    </tr>\n",
       "    <tr>\n",
       "      <th>杨浦区</th>\n",
       "      <td>61</td>\n",
       "      <td>6</td>\n",
       "      <td>10</td>\n",
       "      <td>19</td>\n",
       "      <td>25</td>\n",
       "      <td>1</td>\n",
       "    </tr>\n",
       "    <tr>\n",
       "      <th>静安区</th>\n",
       "      <td>59</td>\n",
       "      <td>3</td>\n",
       "      <td>4</td>\n",
       "      <td>28</td>\n",
       "      <td>22</td>\n",
       "      <td>2</td>\n",
       "    </tr>\n",
       "    <tr>\n",
       "      <th>虹口区</th>\n",
       "      <td>47</td>\n",
       "      <td>8</td>\n",
       "      <td>6</td>\n",
       "      <td>15</td>\n",
       "      <td>18</td>\n",
       "      <td>0</td>\n",
       "    </tr>\n",
       "    <tr>\n",
       "      <th>黄浦区</th>\n",
       "      <td>38</td>\n",
       "      <td>0</td>\n",
       "      <td>0</td>\n",
       "      <td>5</td>\n",
       "      <td>32</td>\n",
       "      <td>1</td>\n",
       "    </tr>\n",
       "    <tr>\n",
       "      <th>青浦区</th>\n",
       "      <td>16</td>\n",
       "      <td>16</td>\n",
       "      <td>0</td>\n",
       "      <td>0</td>\n",
       "      <td>0</td>\n",
       "      <td>0</td>\n",
       "    </tr>\n",
       "  </tbody>\n",
       "</table>\n",
       "</div>"
      ],
      "text/plain": [
       "      district  交通不便普通  交通一般普通  交通便利普通  高端房源  豪宅\n",
       "浦东新区       364      91      65     116    91   1\n",
       "普陀区        163      18      16      39    87   3\n",
       "闵行区        138      75      39      12    10   2\n",
       "宝山区        103      60      36       5     0   2\n",
       "嘉定区         85      53      29       1     0   2\n",
       "长宁区         85       0       5      45    34   1\n",
       "徐汇区         69       1       2      17    48   1\n",
       "松江区         62      43      15       2     2   0\n",
       "杨浦区         61       6      10      19    25   1\n",
       "静安区         59       3       4      28    22   2\n",
       "虹口区         47       8       6      15    18   0\n",
       "黄浦区         38       0       0       5    32   1\n",
       "青浦区         16      16       0       0     0   0"
      ]
     },
     "execution_count": 50,
     "metadata": {},
     "output_type": "execute_result"
    }
   ],
   "source": [
    "shanghai_housing"
   ]
  },
  {
   "cell_type": "markdown",
   "metadata": {},
   "source": [
    "## 占比分析"
   ]
  },
  {
   "cell_type": "markdown",
   "metadata": {},
   "source": [
    "**- 上海各行政区房源分析**"
   ]
  },
  {
   "cell_type": "code",
   "execution_count": 51,
   "metadata": {},
   "outputs": [],
   "source": [
    "housing_rate = shanghai_housing.copy()"
   ]
  },
  {
   "cell_type": "code",
   "execution_count": 52,
   "metadata": {
    "scrolled": true
   },
   "outputs": [
    {
     "data": {
      "text/html": [
       "<div>\n",
       "<style scoped>\n",
       "    .dataframe tbody tr th:only-of-type {\n",
       "        vertical-align: middle;\n",
       "    }\n",
       "\n",
       "    .dataframe tbody tr th {\n",
       "        vertical-align: top;\n",
       "    }\n",
       "\n",
       "    .dataframe thead th {\n",
       "        text-align: right;\n",
       "    }\n",
       "</style>\n",
       "<table border=\"1\" class=\"dataframe\">\n",
       "  <thead>\n",
       "    <tr style=\"text-align: right;\">\n",
       "      <th></th>\n",
       "      <th>district</th>\n",
       "      <th>交通不便普通</th>\n",
       "      <th>交通一般普通</th>\n",
       "      <th>交通便利普通</th>\n",
       "      <th>高端房源</th>\n",
       "      <th>豪宅</th>\n",
       "      <th>豪宅占比</th>\n",
       "      <th>高端房源占比</th>\n",
       "      <th>交通便利普通房源占比</th>\n",
       "      <th>交通一般普通房源占比</th>\n",
       "      <th>交通不便普通房源占比</th>\n",
       "    </tr>\n",
       "  </thead>\n",
       "  <tbody>\n",
       "    <tr>\n",
       "      <th>浦东新区</th>\n",
       "      <td>364</td>\n",
       "      <td>91</td>\n",
       "      <td>65</td>\n",
       "      <td>116</td>\n",
       "      <td>91</td>\n",
       "      <td>1</td>\n",
       "      <td>0.003</td>\n",
       "      <td>0.250</td>\n",
       "      <td>0.319</td>\n",
       "      <td>0.179</td>\n",
       "      <td>0.250</td>\n",
       "    </tr>\n",
       "    <tr>\n",
       "      <th>普陀区</th>\n",
       "      <td>163</td>\n",
       "      <td>18</td>\n",
       "      <td>16</td>\n",
       "      <td>39</td>\n",
       "      <td>87</td>\n",
       "      <td>3</td>\n",
       "      <td>0.018</td>\n",
       "      <td>0.534</td>\n",
       "      <td>0.239</td>\n",
       "      <td>0.098</td>\n",
       "      <td>0.110</td>\n",
       "    </tr>\n",
       "    <tr>\n",
       "      <th>闵行区</th>\n",
       "      <td>138</td>\n",
       "      <td>75</td>\n",
       "      <td>39</td>\n",
       "      <td>12</td>\n",
       "      <td>10</td>\n",
       "      <td>2</td>\n",
       "      <td>0.014</td>\n",
       "      <td>0.072</td>\n",
       "      <td>0.087</td>\n",
       "      <td>0.283</td>\n",
       "      <td>0.543</td>\n",
       "    </tr>\n",
       "    <tr>\n",
       "      <th>宝山区</th>\n",
       "      <td>103</td>\n",
       "      <td>60</td>\n",
       "      <td>36</td>\n",
       "      <td>5</td>\n",
       "      <td>0</td>\n",
       "      <td>2</td>\n",
       "      <td>0.019</td>\n",
       "      <td>0.000</td>\n",
       "      <td>0.049</td>\n",
       "      <td>0.350</td>\n",
       "      <td>0.583</td>\n",
       "    </tr>\n",
       "    <tr>\n",
       "      <th>嘉定区</th>\n",
       "      <td>85</td>\n",
       "      <td>53</td>\n",
       "      <td>29</td>\n",
       "      <td>1</td>\n",
       "      <td>0</td>\n",
       "      <td>2</td>\n",
       "      <td>0.024</td>\n",
       "      <td>0.000</td>\n",
       "      <td>0.012</td>\n",
       "      <td>0.341</td>\n",
       "      <td>0.624</td>\n",
       "    </tr>\n",
       "    <tr>\n",
       "      <th>长宁区</th>\n",
       "      <td>85</td>\n",
       "      <td>0</td>\n",
       "      <td>5</td>\n",
       "      <td>45</td>\n",
       "      <td>34</td>\n",
       "      <td>1</td>\n",
       "      <td>0.012</td>\n",
       "      <td>0.400</td>\n",
       "      <td>0.529</td>\n",
       "      <td>0.059</td>\n",
       "      <td>0.000</td>\n",
       "    </tr>\n",
       "    <tr>\n",
       "      <th>徐汇区</th>\n",
       "      <td>69</td>\n",
       "      <td>1</td>\n",
       "      <td>2</td>\n",
       "      <td>17</td>\n",
       "      <td>48</td>\n",
       "      <td>1</td>\n",
       "      <td>0.014</td>\n",
       "      <td>0.696</td>\n",
       "      <td>0.246</td>\n",
       "      <td>0.029</td>\n",
       "      <td>0.014</td>\n",
       "    </tr>\n",
       "    <tr>\n",
       "      <th>松江区</th>\n",
       "      <td>62</td>\n",
       "      <td>43</td>\n",
       "      <td>15</td>\n",
       "      <td>2</td>\n",
       "      <td>2</td>\n",
       "      <td>0</td>\n",
       "      <td>0.000</td>\n",
       "      <td>0.032</td>\n",
       "      <td>0.032</td>\n",
       "      <td>0.242</td>\n",
       "      <td>0.694</td>\n",
       "    </tr>\n",
       "    <tr>\n",
       "      <th>杨浦区</th>\n",
       "      <td>61</td>\n",
       "      <td>6</td>\n",
       "      <td>10</td>\n",
       "      <td>19</td>\n",
       "      <td>25</td>\n",
       "      <td>1</td>\n",
       "      <td>0.016</td>\n",
       "      <td>0.410</td>\n",
       "      <td>0.311</td>\n",
       "      <td>0.164</td>\n",
       "      <td>0.098</td>\n",
       "    </tr>\n",
       "    <tr>\n",
       "      <th>静安区</th>\n",
       "      <td>59</td>\n",
       "      <td>3</td>\n",
       "      <td>4</td>\n",
       "      <td>28</td>\n",
       "      <td>22</td>\n",
       "      <td>2</td>\n",
       "      <td>0.034</td>\n",
       "      <td>0.373</td>\n",
       "      <td>0.475</td>\n",
       "      <td>0.068</td>\n",
       "      <td>0.051</td>\n",
       "    </tr>\n",
       "    <tr>\n",
       "      <th>虹口区</th>\n",
       "      <td>47</td>\n",
       "      <td>8</td>\n",
       "      <td>6</td>\n",
       "      <td>15</td>\n",
       "      <td>18</td>\n",
       "      <td>0</td>\n",
       "      <td>0.000</td>\n",
       "      <td>0.383</td>\n",
       "      <td>0.319</td>\n",
       "      <td>0.128</td>\n",
       "      <td>0.170</td>\n",
       "    </tr>\n",
       "    <tr>\n",
       "      <th>黄浦区</th>\n",
       "      <td>38</td>\n",
       "      <td>0</td>\n",
       "      <td>0</td>\n",
       "      <td>5</td>\n",
       "      <td>32</td>\n",
       "      <td>1</td>\n",
       "      <td>0.026</td>\n",
       "      <td>0.842</td>\n",
       "      <td>0.132</td>\n",
       "      <td>0.000</td>\n",
       "      <td>0.000</td>\n",
       "    </tr>\n",
       "    <tr>\n",
       "      <th>青浦区</th>\n",
       "      <td>16</td>\n",
       "      <td>16</td>\n",
       "      <td>0</td>\n",
       "      <td>0</td>\n",
       "      <td>0</td>\n",
       "      <td>0</td>\n",
       "      <td>0.000</td>\n",
       "      <td>0.000</td>\n",
       "      <td>0.000</td>\n",
       "      <td>0.000</td>\n",
       "      <td>1.000</td>\n",
       "    </tr>\n",
       "  </tbody>\n",
       "</table>\n",
       "</div>"
      ],
      "text/plain": [
       "      district  交通不便普通  交通一般普通  交通便利普通  高端房源  豪宅   豪宅占比  高端房源占比  交通便利普通房源占比  \\\n",
       "浦东新区       364      91      65     116    91   1  0.003   0.250       0.319   \n",
       "普陀区        163      18      16      39    87   3  0.018   0.534       0.239   \n",
       "闵行区        138      75      39      12    10   2  0.014   0.072       0.087   \n",
       "宝山区        103      60      36       5     0   2  0.019   0.000       0.049   \n",
       "嘉定区         85      53      29       1     0   2  0.024   0.000       0.012   \n",
       "长宁区         85       0       5      45    34   1  0.012   0.400       0.529   \n",
       "徐汇区         69       1       2      17    48   1  0.014   0.696       0.246   \n",
       "松江区         62      43      15       2     2   0  0.000   0.032       0.032   \n",
       "杨浦区         61       6      10      19    25   1  0.016   0.410       0.311   \n",
       "静安区         59       3       4      28    22   2  0.034   0.373       0.475   \n",
       "虹口区         47       8       6      15    18   0  0.000   0.383       0.319   \n",
       "黄浦区         38       0       0       5    32   1  0.026   0.842       0.132   \n",
       "青浦区         16      16       0       0     0   0  0.000   0.000       0.000   \n",
       "\n",
       "      交通一般普通房源占比  交通不便普通房源占比  \n",
       "浦东新区       0.179       0.250  \n",
       "普陀区        0.098       0.110  \n",
       "闵行区        0.283       0.543  \n",
       "宝山区        0.350       0.583  \n",
       "嘉定区        0.341       0.624  \n",
       "长宁区        0.059       0.000  \n",
       "徐汇区        0.029       0.014  \n",
       "松江区        0.242       0.694  \n",
       "杨浦区        0.164       0.098  \n",
       "静安区        0.068       0.051  \n",
       "虹口区        0.128       0.170  \n",
       "黄浦区        0.000       0.000  \n",
       "青浦区        0.000       1.000  "
      ]
     },
     "execution_count": 52,
     "metadata": {},
     "output_type": "execute_result"
    }
   ],
   "source": [
    "housing_rate.insert(6,'豪宅占比',(shanghai_housing['豪宅']/shanghai_housing['district']).round(3))\n",
    "housing_rate.insert(7,'高端房源占比',(shanghai_housing['高端房源']/shanghai_housing['district']).round(3))\n",
    "housing_rate.insert(8,'交通便利普通房源占比',(shanghai_housing['交通便利普通']/shanghai_housing['district']).round(3))\n",
    "housing_rate.insert(9,'交通一般普通房源占比',(shanghai_housing['交通一般普通']/shanghai_housing['district']).round(3))\n",
    "housing_rate.insert(10,'交通不便普通房源占比',(shanghai_housing['交通不便普通']/shanghai_housing['district']).round(3))\n",
    "housing_rate"
   ]
  },
  {
   "cell_type": "code",
   "execution_count": 117,
   "metadata": {},
   "outputs": [
    {
     "name": "stdout",
     "output_type": "stream",
     "text": [
      "[0.003 0.018 0.014 0.019 0.024 0.012 0.014 0.    0.016 0.034 0.    0.026\n",
      " 0.   ]\n",
      "[0.25  0.534 0.072 0.    0.    0.4   0.696 0.032 0.41  0.373 0.383 0.842\n",
      " 0.   ]\n",
      "[0.319 0.239 0.087 0.049 0.012 0.529 0.246 0.032 0.311 0.475 0.319 0.132\n",
      " 0.   ]\n",
      "[0.179 0.098 0.283 0.35  0.341 0.059 0.029 0.242 0.164 0.068 0.128 0.\n",
      " 0.   ]\n",
      "[0.25  0.11  0.543 0.583 0.624 0.    0.014 0.694 0.098 0.051 0.17  0.\n",
      " 1.   ]\n"
     ]
    }
   ],
   "source": [
    "data1 = housing_rate['豪宅占比'].values\n",
    "data2 = housing_rate['高端房源占比'].values\n",
    "data3 = housing_rate['交通便利普通房源占比'].values\n",
    "data4 = housing_rate['交通一般普通房源占比'].values\n",
    "data5 = housing_rate['交通不便普通房源占比'].values\n",
    "print(data1)\n",
    "print(data2)\n",
    "print(data3)\n",
    "print(data4)\n",
    "print(data5)"
   ]
  },
  {
   "cell_type": "code",
   "execution_count": 139,
   "metadata": {},
   "outputs": [
    {
     "data": {
      "text/plain": [
       "'/Users/jazmin/render.html'"
      ]
     },
     "execution_count": 139,
     "metadata": {},
     "output_type": "execute_result"
    }
   ],
   "source": [
    "pyecharts.charts import Bar\n",
    "from pyecharts import options as opts\n",
    "\n",
    "bar=Bar()\n",
    "bar.add_xaxis([\"浦东新区\", \"普陀区\", \"闵行区\", \"宝山区\", \"嘉定区\", \"长宁区\", \"徐汇区\", \"松江区\", \"杨浦区\", \"静安区\", \"虹口区\", \"黄浦区\",\"青浦区\"])\n",
    "\n",
    "bar.add_yaxis('交通便利普通房源占比',[0.319, 0.239, 0.087, 0.049, 0.012, 0.529, 0.246, 0.032, 0.311,\n",
    "       0.475, 0.319, 0.132, 0.   ],stack='stack1')\n",
    "bar.add_yaxis('交通一般普通房源占比',[0.179, 0.098, 0.283, 0.35 , 0.341, 0.059, 0.029, 0.242, 0.164,\n",
    "       0.068, 0.128, 0.   , 0.   ],stack='stack1')\n",
    "bar.add_yaxis('交通不便普通房源占比',[0.25 , 0.11 , 0.543, 0.583, 0.624, 0.   , 0.014, 0.694, 0.098,\n",
    "       0.051, 0.17 , 0.   , 1.   ],stack='stack1')\n",
    "bar.add_yaxis('豪宅占比',[0.003, 0.018, 0.014, 0.019, 0.024, 0.012, 0.014, 0.   , 0.016,\n",
    "       0.034, 0.   , 0.026, 0.   ],stack='stack1')\n",
    "bar.add_yaxis('高端房源占比',[0.25,0.534,0.072, 0. , 0.  ,  0.4 ,  0.696 ,0.032, 0.41 , 0.373 ,0.383, 0.842,\n",
    " 0.   ],stack='stack1')\n",
    "\n",
    "bar.set_series_opts(label_opts=opts.LabelOpts(is_show=False),\n",
    "                    markpoint_opts=opts.MarkPointOpts(\n",
    "                    data=[opts.MarkPointItem(type_='max',name='最大值'),\n",
    "                        opts.MarkPointItem(type_='min',name='最小值'),\n",
    "                        opts.MarkPointItem(type_='average',name='平均值')]))\n",
    "bar.set_global_opts(title_opts=opts.TitleOpts(title='上海各区房源'))\n",
    "bar.render()\n",
    "#上海各区房源占比分析"
   ]
  }
 ],
 "metadata": {
  "kernelspec": {
   "display_name": "Python 3",
   "language": "python",
   "name": "python3"
  },
  "language_info": {
   "codemirror_mode": {
    "name": "ipython",
    "version": 3
   },
   "file_extension": ".py",
   "mimetype": "text/x-python",
   "name": "python",
   "nbconvert_exporter": "python",
   "pygments_lexer": "ipython3",
   "version": "3.8.3"
  }
 },
 "nbformat": 4,
 "nbformat_minor": 4
}
