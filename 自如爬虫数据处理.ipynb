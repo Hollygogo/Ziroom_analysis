{
 "cells": [
  {
   "cell_type": "markdown",
   "metadata": {},
   "source": [
    "# 数据处理"
   ]
  },
  {
   "cell_type": "code",
   "execution_count": 7,
   "metadata": {},
   "outputs": [],
   "source": [
    "import pandas as pd\n",
    "pd.set_option('max_rows', None)\n",
    "pd.set_option('max_columns', None)"
   ]
  },
  {
   "cell_type": "code",
   "execution_count": 8,
   "metadata": {},
   "outputs": [
    {
     "data": {
      "text/html": [
       "<div>\n",
       "<style scoped>\n",
       "    .dataframe tbody tr th:only-of-type {\n",
       "        vertical-align: middle;\n",
       "    }\n",
       "\n",
       "    .dataframe tbody tr th {\n",
       "        vertical-align: top;\n",
       "    }\n",
       "\n",
       "    .dataframe thead th {\n",
       "        text-align: right;\n",
       "    }\n",
       "</style>\n",
       "<table border=\"1\" class=\"dataframe\">\n",
       "  <thead>\n",
       "    <tr style=\"text-align: right;\">\n",
       "      <th></th>\n",
       "      <th>0</th>\n",
       "    </tr>\n",
       "  </thead>\n",
       "  <tbody>\n",
       "    <tr>\n",
       "      <th>0</th>\n",
       "      <td>3560 合租·地杰国际城F欧香四季4居室-南卧 18㎡  14/18层 小区距御桥站步行约...</td>\n",
       "    </tr>\n",
       "    <tr>\n",
       "      <th>1</th>\n",
       "      <td>9460 整租·华升公寓2室1厅-南 96.41㎡  20/34层 小区距江浦路站步行约150米</td>\n",
       "    </tr>\n",
       "    <tr>\n",
       "      <th>2</th>\n",
       "      <td>3290 合租·博爱家园4居室-南卧 17.5㎡  6/6层 小区距高科西路站步行约234米</td>\n",
       "    </tr>\n",
       "    <tr>\n",
       "      <th>3</th>\n",
       "      <td>3030 合租·紫叶花园东园4居室-南卧 17.5㎡  5/6层 小区距北蔡站步行约216米</td>\n",
       "    </tr>\n",
       "    <tr>\n",
       "      <th>4</th>\n",
       "      <td>3990 合租·仁和苑4居室-南卧 17.41㎡  7/12层 小区距江湾体育场站步行约243米</td>\n",
       "    </tr>\n",
       "  </tbody>\n",
       "</table>\n",
       "</div>"
      ],
      "text/plain": [
       "                                                   0\n",
       "0  3560 合租·地杰国际城F欧香四季4居室-南卧 18㎡  14/18层 小区距御桥站步行约...\n",
       "1   9460 整租·华升公寓2室1厅-南 96.41㎡  20/34层 小区距江浦路站步行约150米\n",
       "2     3290 合租·博爱家园4居室-南卧 17.5㎡  6/6层 小区距高科西路站步行约234米\n",
       "3     3030 合租·紫叶花园东园4居室-南卧 17.5㎡  5/6层 小区距北蔡站步行约216米\n",
       "4   3990 合租·仁和苑4居室-南卧 17.41㎡  7/12层 小区距江湾体育场站步行约243米"
      ]
     },
     "execution_count": 8,
     "metadata": {},
     "output_type": "execute_result"
    }
   ],
   "source": [
    "data=pd.read_excel('ziroom.xlsx',header=None)\n",
    "data.head()"
   ]
  },
  {
   "cell_type": "code",
   "execution_count": 9,
   "metadata": {},
   "outputs": [
    {
     "data": {
      "text/html": [
       "<div>\n",
       "<style scoped>\n",
       "    .dataframe tbody tr th:only-of-type {\n",
       "        vertical-align: middle;\n",
       "    }\n",
       "\n",
       "    .dataframe tbody tr th {\n",
       "        vertical-align: top;\n",
       "    }\n",
       "\n",
       "    .dataframe thead th {\n",
       "        text-align: right;\n",
       "    }\n",
       "</style>\n",
       "<table border=\"1\" class=\"dataframe\">\n",
       "  <thead>\n",
       "    <tr style=\"text-align: right;\">\n",
       "      <th></th>\n",
       "      <th>0</th>\n",
       "      <th>1</th>\n",
       "      <th>2</th>\n",
       "      <th>3</th>\n",
       "      <th>4</th>\n",
       "      <th>5</th>\n",
       "    </tr>\n",
       "  </thead>\n",
       "  <tbody>\n",
       "    <tr>\n",
       "      <th>0</th>\n",
       "      <td>3560</td>\n",
       "      <td>合租·地杰国际城F欧香四季4居室-南卧</td>\n",
       "      <td>18㎡</td>\n",
       "      <td></td>\n",
       "      <td>14/18层</td>\n",
       "      <td>小区距御桥站步行约191米</td>\n",
       "    </tr>\n",
       "    <tr>\n",
       "      <th>1</th>\n",
       "      <td>9460</td>\n",
       "      <td>整租·华升公寓2室1厅-南</td>\n",
       "      <td>96.41㎡</td>\n",
       "      <td></td>\n",
       "      <td>20/34层</td>\n",
       "      <td>小区距江浦路站步行约150米</td>\n",
       "    </tr>\n",
       "    <tr>\n",
       "      <th>2</th>\n",
       "      <td>3290</td>\n",
       "      <td>合租·博爱家园4居室-南卧</td>\n",
       "      <td>17.5㎡</td>\n",
       "      <td></td>\n",
       "      <td>6/6层</td>\n",
       "      <td>小区距高科西路站步行约234米</td>\n",
       "    </tr>\n",
       "    <tr>\n",
       "      <th>3</th>\n",
       "      <td>3030</td>\n",
       "      <td>合租·紫叶花园东园4居室-南卧</td>\n",
       "      <td>17.5㎡</td>\n",
       "      <td></td>\n",
       "      <td>5/6层</td>\n",
       "      <td>小区距北蔡站步行约216米</td>\n",
       "    </tr>\n",
       "    <tr>\n",
       "      <th>4</th>\n",
       "      <td>3990</td>\n",
       "      <td>合租·仁和苑4居室-南卧</td>\n",
       "      <td>17.41㎡</td>\n",
       "      <td></td>\n",
       "      <td>7/12层</td>\n",
       "      <td>小区距江湾体育场站步行约243米</td>\n",
       "    </tr>\n",
       "  </tbody>\n",
       "</table>\n",
       "</div>"
      ],
      "text/plain": [
       "      0                    1       2 3       4                 5\n",
       "0  3560  合租·地杰国际城F欧香四季4居室-南卧     18㎡    14/18层     小区距御桥站步行约191米\n",
       "1  9460        整租·华升公寓2室1厅-南  96.41㎡    20/34层    小区距江浦路站步行约150米\n",
       "2  3290        合租·博爱家园4居室-南卧   17.5㎡      6/6层   小区距高科西路站步行约234米\n",
       "3  3030      合租·紫叶花园东园4居室-南卧   17.5㎡      5/6层     小区距北蔡站步行约216米\n",
       "4  3990         合租·仁和苑4居室-南卧  17.41㎡     7/12层  小区距江湾体育场站步行约243米"
      ]
     },
     "execution_count": 9,
     "metadata": {},
     "output_type": "execute_result"
    }
   ],
   "source": [
    "df1=data[0].str.split(' ',expand=True)\n",
    "df1.head()"
   ]
  },
  {
   "cell_type": "code",
   "execution_count": 10,
   "metadata": {},
   "outputs": [
    {
     "data": {
      "text/plain": [
       "0    object\n",
       "1    object\n",
       "2    object\n",
       "3    object\n",
       "4    object\n",
       "5    object\n",
       "dtype: object"
      ]
     },
     "execution_count": 10,
     "metadata": {},
     "output_type": "execute_result"
    }
   ],
   "source": [
    "df1.dtypes"
   ]
  },
  {
   "cell_type": "code",
   "execution_count": 11,
   "metadata": {},
   "outputs": [
    {
     "data": {
      "text/html": [
       "<div>\n",
       "<style scoped>\n",
       "    .dataframe tbody tr th:only-of-type {\n",
       "        vertical-align: middle;\n",
       "    }\n",
       "\n",
       "    .dataframe tbody tr th {\n",
       "        vertical-align: top;\n",
       "    }\n",
       "\n",
       "    .dataframe thead th {\n",
       "        text-align: right;\n",
       "    }\n",
       "</style>\n",
       "<table border=\"1\" class=\"dataframe\">\n",
       "  <thead>\n",
       "    <tr style=\"text-align: right;\">\n",
       "      <th></th>\n",
       "      <th>0</th>\n",
       "      <th>1</th>\n",
       "      <th>2</th>\n",
       "      <th>3</th>\n",
       "      <th>4</th>\n",
       "      <th>5</th>\n",
       "      <th>square</th>\n",
       "    </tr>\n",
       "  </thead>\n",
       "  <tbody>\n",
       "    <tr>\n",
       "      <th>0</th>\n",
       "      <td>3560</td>\n",
       "      <td>合租·地杰国际城F欧香四季4居室-南卧</td>\n",
       "      <td>18㎡</td>\n",
       "      <td></td>\n",
       "      <td>14/18层</td>\n",
       "      <td>小区距御桥站步行约191米</td>\n",
       "      <td>18</td>\n",
       "    </tr>\n",
       "    <tr>\n",
       "      <th>1</th>\n",
       "      <td>9460</td>\n",
       "      <td>整租·华升公寓2室1厅-南</td>\n",
       "      <td>96.41㎡</td>\n",
       "      <td></td>\n",
       "      <td>20/34层</td>\n",
       "      <td>小区距江浦路站步行约150米</td>\n",
       "      <td>96</td>\n",
       "    </tr>\n",
       "    <tr>\n",
       "      <th>2</th>\n",
       "      <td>3290</td>\n",
       "      <td>合租·博爱家园4居室-南卧</td>\n",
       "      <td>17.5㎡</td>\n",
       "      <td></td>\n",
       "      <td>6/6层</td>\n",
       "      <td>小区距高科西路站步行约234米</td>\n",
       "      <td>17</td>\n",
       "    </tr>\n",
       "    <tr>\n",
       "      <th>3</th>\n",
       "      <td>3030</td>\n",
       "      <td>合租·紫叶花园东园4居室-南卧</td>\n",
       "      <td>17.5㎡</td>\n",
       "      <td></td>\n",
       "      <td>5/6层</td>\n",
       "      <td>小区距北蔡站步行约216米</td>\n",
       "      <td>17</td>\n",
       "    </tr>\n",
       "    <tr>\n",
       "      <th>4</th>\n",
       "      <td>3990</td>\n",
       "      <td>合租·仁和苑4居室-南卧</td>\n",
       "      <td>17.41㎡</td>\n",
       "      <td></td>\n",
       "      <td>7/12层</td>\n",
       "      <td>小区距江湾体育场站步行约243米</td>\n",
       "      <td>17</td>\n",
       "    </tr>\n",
       "  </tbody>\n",
       "</table>\n",
       "</div>"
      ],
      "text/plain": [
       "      0                    1       2 3       4                 5  square\n",
       "0  3560  合租·地杰国际城F欧香四季4居室-南卧     18㎡    14/18层     小区距御桥站步行约191米      18\n",
       "1  9460        整租·华升公寓2室1厅-南  96.41㎡    20/34层    小区距江浦路站步行约150米      96\n",
       "2  3290        合租·博爱家园4居室-南卧   17.5㎡      6/6层   小区距高科西路站步行约234米      17\n",
       "3  3030      合租·紫叶花园东园4居室-南卧   17.5㎡      5/6层     小区距北蔡站步行约216米      17\n",
       "4  3990         合租·仁和苑4居室-南卧  17.41㎡     7/12层  小区距江湾体育场站步行约243米      17"
      ]
     },
     "execution_count": 11,
     "metadata": {},
     "output_type": "execute_result"
    }
   ],
   "source": [
    "df1['square']=df1[2].str.extract('(\\d+)')\n",
    "df1['square']=df1['square'].astype(int)\n",
    "df1.head()"
   ]
  },
  {
   "cell_type": "code",
   "execution_count": 12,
   "metadata": {},
   "outputs": [
    {
     "data": {
      "text/plain": [
       "0                 object\n",
       "1                 object\n",
       "2                 object\n",
       "3                 object\n",
       "4                 object\n",
       "5                 object\n",
       "square             int64\n",
       "metro_distance     int64\n",
       "dtype: object"
      ]
     },
     "execution_count": 12,
     "metadata": {},
     "output_type": "execute_result"
    }
   ],
   "source": [
    "df1['metro_distance']=df1[5].str.extract('(\\d+)')\n",
    "df1['metro_distance']=df1['metro_distance'].astype(int)\n",
    "df1.head()\n",
    "df1.dtypes"
   ]
  },
  {
   "cell_type": "code",
   "execution_count": 13,
   "metadata": {},
   "outputs": [
    {
     "data": {
      "text/plain": [
       "0                 object\n",
       "1                 object\n",
       "2                 object\n",
       "3                 object\n",
       "4                 object\n",
       "5                 object\n",
       "square             int64\n",
       "metro_distance     int64\n",
       "floor              int64\n",
       "dtype: object"
      ]
     },
     "execution_count": 13,
     "metadata": {},
     "output_type": "execute_result"
    }
   ],
   "source": [
    "df1['floor']=df1[4].apply(lambda x: eval(x.split('/')[0]))\n",
    "df1['floor']=df1['floor'].astype(int)\n",
    "df1.dtypes"
   ]
  },
  {
   "cell_type": "code",
   "execution_count": 14,
   "metadata": {},
   "outputs": [],
   "source": [
    "df1['floors']=df1[4].apply(lambda x: x.split('/')[1])"
   ]
  },
  {
   "cell_type": "code",
   "execution_count": 15,
   "metadata": {},
   "outputs": [],
   "source": [
    "df1['floors']=df1['floors'].str.extract('(\\d+)')\n",
    "df1['floors']=df1['floors'].astype(int)"
   ]
  },
  {
   "cell_type": "code",
   "execution_count": 16,
   "metadata": {},
   "outputs": [],
   "source": [
    "df1['price']=df1[0].astype(int)"
   ]
  },
  {
   "cell_type": "code",
   "execution_count": 17,
   "metadata": {},
   "outputs": [],
   "source": [
    "df1['type']=[x[:2]for x in df1[1]]\n",
    "df1['title']=df1[1]"
   ]
  },
  {
   "cell_type": "code",
   "execution_count": 18,
   "metadata": {},
   "outputs": [],
   "source": [
    "df1['metro']=df1[5].apply(lambda x: x.split('距')[1])"
   ]
  },
  {
   "cell_type": "code",
   "execution_count": 19,
   "metadata": {
    "scrolled": true
   },
   "outputs": [
    {
     "data": {
      "text/html": [
       "<div>\n",
       "<style scoped>\n",
       "    .dataframe tbody tr th:only-of-type {\n",
       "        vertical-align: middle;\n",
       "    }\n",
       "\n",
       "    .dataframe tbody tr th {\n",
       "        vertical-align: top;\n",
       "    }\n",
       "\n",
       "    .dataframe thead th {\n",
       "        text-align: right;\n",
       "    }\n",
       "</style>\n",
       "<table border=\"1\" class=\"dataframe\">\n",
       "  <thead>\n",
       "    <tr style=\"text-align: right;\">\n",
       "      <th></th>\n",
       "      <th>0</th>\n",
       "      <th>1</th>\n",
       "      <th>2</th>\n",
       "      <th>3</th>\n",
       "      <th>4</th>\n",
       "      <th>5</th>\n",
       "      <th>square</th>\n",
       "      <th>metro_distance</th>\n",
       "      <th>floor</th>\n",
       "      <th>floors</th>\n",
       "      <th>price</th>\n",
       "      <th>type</th>\n",
       "      <th>title</th>\n",
       "      <th>metro</th>\n",
       "    </tr>\n",
       "  </thead>\n",
       "  <tbody>\n",
       "    <tr>\n",
       "      <th>0</th>\n",
       "      <td>3560</td>\n",
       "      <td>合租·地杰国际城F欧香四季4居室-南卧</td>\n",
       "      <td>18㎡</td>\n",
       "      <td></td>\n",
       "      <td>14/18层</td>\n",
       "      <td>小区距御桥站步行约191米</td>\n",
       "      <td>18</td>\n",
       "      <td>191</td>\n",
       "      <td>14</td>\n",
       "      <td>18</td>\n",
       "      <td>3560</td>\n",
       "      <td>合租</td>\n",
       "      <td>合租·地杰国际城F欧香四季4居室-南卧</td>\n",
       "      <td>御桥站步行约191米</td>\n",
       "    </tr>\n",
       "  </tbody>\n",
       "</table>\n",
       "</div>"
      ],
      "text/plain": [
       "      0                    1    2 3       4              5  square  \\\n",
       "0  3560  合租·地杰国际城F欧香四季4居室-南卧  18㎡    14/18层  小区距御桥站步行约191米      18   \n",
       "\n",
       "   metro_distance  floor  floors  price type                title       metro  \n",
       "0             191     14      18   3560   合租  合租·地杰国际城F欧香四季4居室-南卧  御桥站步行约191米  "
      ]
     },
     "execution_count": 19,
     "metadata": {},
     "output_type": "execute_result"
    }
   ],
   "source": [
    "df1.head(1)"
   ]
  },
  {
   "cell_type": "code",
   "execution_count": 20,
   "metadata": {},
   "outputs": [
    {
     "data": {
      "text/html": [
       "<div>\n",
       "<style scoped>\n",
       "    .dataframe tbody tr th:only-of-type {\n",
       "        vertical-align: middle;\n",
       "    }\n",
       "\n",
       "    .dataframe tbody tr th {\n",
       "        vertical-align: top;\n",
       "    }\n",
       "\n",
       "    .dataframe thead th {\n",
       "        text-align: right;\n",
       "    }\n",
       "</style>\n",
       "<table border=\"1\" class=\"dataframe\">\n",
       "  <thead>\n",
       "    <tr style=\"text-align: right;\">\n",
       "      <th></th>\n",
       "      <th>0</th>\n",
       "      <th>1</th>\n",
       "      <th>2</th>\n",
       "      <th>3</th>\n",
       "      <th>4</th>\n",
       "      <th>5</th>\n",
       "      <th>square</th>\n",
       "      <th>metro_distance</th>\n",
       "      <th>floor</th>\n",
       "      <th>floors</th>\n",
       "      <th>price</th>\n",
       "      <th>type</th>\n",
       "      <th>title</th>\n",
       "      <th>metro</th>\n",
       "    </tr>\n",
       "  </thead>\n",
       "  <tbody>\n",
       "    <tr>\n",
       "      <th>0</th>\n",
       "      <td>3560</td>\n",
       "      <td>合租·地杰国际城F欧香四季4居室-南卧</td>\n",
       "      <td>18㎡</td>\n",
       "      <td></td>\n",
       "      <td>14/18层</td>\n",
       "      <td>小区距御桥站步行约191米</td>\n",
       "      <td>18</td>\n",
       "      <td>191</td>\n",
       "      <td>14</td>\n",
       "      <td>18</td>\n",
       "      <td>3560</td>\n",
       "      <td>合租</td>\n",
       "      <td>合租·地杰国际城F欧香四季4居室-南卧</td>\n",
       "      <td>御桥</td>\n",
       "    </tr>\n",
       "  </tbody>\n",
       "</table>\n",
       "</div>"
      ],
      "text/plain": [
       "      0                    1    2 3       4              5  square  \\\n",
       "0  3560  合租·地杰国际城F欧香四季4居室-南卧  18㎡    14/18层  小区距御桥站步行约191米      18   \n",
       "\n",
       "   metro_distance  floor  floors  price type                title metro  \n",
       "0             191     14      18   3560   合租  合租·地杰国际城F欧香四季4居室-南卧    御桥  "
      ]
     },
     "execution_count": 20,
     "metadata": {},
     "output_type": "execute_result"
    }
   ],
   "source": [
    "df1['metro']=df1['metro'].apply(lambda x: x.split('站')[0])\n",
    "df1.head(1)"
   ]
  },
  {
   "cell_type": "code",
   "execution_count": 21,
   "metadata": {},
   "outputs": [
    {
     "data": {
      "text/html": [
       "<div>\n",
       "<style scoped>\n",
       "    .dataframe tbody tr th:only-of-type {\n",
       "        vertical-align: middle;\n",
       "    }\n",
       "\n",
       "    .dataframe tbody tr th {\n",
       "        vertical-align: top;\n",
       "    }\n",
       "\n",
       "    .dataframe thead th {\n",
       "        text-align: right;\n",
       "    }\n",
       "</style>\n",
       "<table border=\"1\" class=\"dataframe\">\n",
       "  <thead>\n",
       "    <tr style=\"text-align: right;\">\n",
       "      <th></th>\n",
       "      <th>title</th>\n",
       "      <th>type</th>\n",
       "      <th>metro</th>\n",
       "      <th>metro_distance</th>\n",
       "      <th>square</th>\n",
       "      <th>price</th>\n",
       "      <th>floor</th>\n",
       "      <th>floors</th>\n",
       "    </tr>\n",
       "  </thead>\n",
       "  <tbody>\n",
       "    <tr>\n",
       "      <th>0</th>\n",
       "      <td>合租·地杰国际城F欧香四季4居室-南卧</td>\n",
       "      <td>合租</td>\n",
       "      <td>御桥</td>\n",
       "      <td>191</td>\n",
       "      <td>18</td>\n",
       "      <td>3560</td>\n",
       "      <td>14</td>\n",
       "      <td>18</td>\n",
       "    </tr>\n",
       "    <tr>\n",
       "      <th>1</th>\n",
       "      <td>整租·华升公寓2室1厅-南</td>\n",
       "      <td>整租</td>\n",
       "      <td>江浦路</td>\n",
       "      <td>150</td>\n",
       "      <td>96</td>\n",
       "      <td>9460</td>\n",
       "      <td>20</td>\n",
       "      <td>34</td>\n",
       "    </tr>\n",
       "    <tr>\n",
       "      <th>2</th>\n",
       "      <td>合租·博爱家园4居室-南卧</td>\n",
       "      <td>合租</td>\n",
       "      <td>高科西路</td>\n",
       "      <td>234</td>\n",
       "      <td>17</td>\n",
       "      <td>3290</td>\n",
       "      <td>6</td>\n",
       "      <td>6</td>\n",
       "    </tr>\n",
       "    <tr>\n",
       "      <th>3</th>\n",
       "      <td>合租·紫叶花园东园4居室-南卧</td>\n",
       "      <td>合租</td>\n",
       "      <td>北蔡</td>\n",
       "      <td>216</td>\n",
       "      <td>17</td>\n",
       "      <td>3030</td>\n",
       "      <td>5</td>\n",
       "      <td>6</td>\n",
       "    </tr>\n",
       "    <tr>\n",
       "      <th>4</th>\n",
       "      <td>合租·仁和苑4居室-南卧</td>\n",
       "      <td>合租</td>\n",
       "      <td>江湾体育场</td>\n",
       "      <td>243</td>\n",
       "      <td>17</td>\n",
       "      <td>3990</td>\n",
       "      <td>7</td>\n",
       "      <td>12</td>\n",
       "    </tr>\n",
       "  </tbody>\n",
       "</table>\n",
       "</div>"
      ],
      "text/plain": [
       "                 title type  metro  metro_distance  square  price  floor  \\\n",
       "0  合租·地杰国际城F欧香四季4居室-南卧   合租     御桥             191      18   3560     14   \n",
       "1        整租·华升公寓2室1厅-南   整租    江浦路             150      96   9460     20   \n",
       "2        合租·博爱家园4居室-南卧   合租   高科西路             234      17   3290      6   \n",
       "3      合租·紫叶花园东园4居室-南卧   合租     北蔡             216      17   3030      5   \n",
       "4         合租·仁和苑4居室-南卧   合租  江湾体育场             243      17   3990      7   \n",
       "\n",
       "   floors  \n",
       "0      18  \n",
       "1      34  \n",
       "2       6  \n",
       "3       6  \n",
       "4      12  "
      ]
     },
     "execution_count": 21,
     "metadata": {},
     "output_type": "execute_result"
    }
   ],
   "source": [
    "housing=df1[['title','type','metro','metro_distance','square','price','floor','floors']]\n",
    "housing.head()"
   ]
  },
  {
   "cell_type": "code",
   "execution_count": 22,
   "metadata": {},
   "outputs": [
    {
     "data": {
      "text/plain": [
       "(1333, 8)"
      ]
     },
     "execution_count": 22,
     "metadata": {},
     "output_type": "execute_result"
    }
   ],
   "source": [
    "housing.shape"
   ]
  },
  {
   "cell_type": "code",
   "execution_count": 23,
   "metadata": {},
   "outputs": [
    {
     "data": {
      "text/plain": [
       "(1327, 8)"
      ]
     },
     "execution_count": 23,
     "metadata": {},
     "output_type": "execute_result"
    }
   ],
   "source": [
    "housing = housing.drop_duplicates()\n",
    "housing.shape"
   ]
  },
  {
   "cell_type": "code",
   "execution_count": 24,
   "metadata": {},
   "outputs": [
    {
     "data": {
      "text/plain": [
       "(1327, 9)"
      ]
     },
     "execution_count": 24,
     "metadata": {},
     "output_type": "execute_result"
    }
   ],
   "source": [
    "housing['mon_price'] = housing['price'] \n",
    "housing.loc[housing['price']<600,'mon_price'] *= 30 \n",
    "housing= housing.dropna()\n",
    "housing.shape"
   ]
  },
  {
   "cell_type": "code",
   "execution_count": 25,
   "metadata": {},
   "outputs": [
    {
     "data": {
      "text/html": [
       "<div>\n",
       "<style scoped>\n",
       "    .dataframe tbody tr th:only-of-type {\n",
       "        vertical-align: middle;\n",
       "    }\n",
       "\n",
       "    .dataframe tbody tr th {\n",
       "        vertical-align: top;\n",
       "    }\n",
       "\n",
       "    .dataframe thead th {\n",
       "        text-align: right;\n",
       "    }\n",
       "</style>\n",
       "<table border=\"1\" class=\"dataframe\">\n",
       "  <thead>\n",
       "    <tr style=\"text-align: right;\">\n",
       "      <th></th>\n",
       "      <th>title</th>\n",
       "      <th>type</th>\n",
       "      <th>metro</th>\n",
       "      <th>metro_distance</th>\n",
       "      <th>square</th>\n",
       "      <th>price</th>\n",
       "      <th>floor</th>\n",
       "      <th>floors</th>\n",
       "      <th>mon_price</th>\n",
       "    </tr>\n",
       "  </thead>\n",
       "  <tbody>\n",
       "    <tr>\n",
       "      <th>0</th>\n",
       "      <td>合租·地杰国际城F欧香四季4居室-南卧</td>\n",
       "      <td>合租</td>\n",
       "      <td>御桥</td>\n",
       "      <td>191</td>\n",
       "      <td>18</td>\n",
       "      <td>3560</td>\n",
       "      <td>14</td>\n",
       "      <td>18</td>\n",
       "      <td>3560</td>\n",
       "    </tr>\n",
       "    <tr>\n",
       "      <th>1</th>\n",
       "      <td>整租·华升公寓2室1厅-南</td>\n",
       "      <td>整租</td>\n",
       "      <td>江浦路</td>\n",
       "      <td>150</td>\n",
       "      <td>96</td>\n",
       "      <td>9460</td>\n",
       "      <td>20</td>\n",
       "      <td>34</td>\n",
       "      <td>9460</td>\n",
       "    </tr>\n",
       "    <tr>\n",
       "      <th>2</th>\n",
       "      <td>合租·博爱家园4居室-南卧</td>\n",
       "      <td>合租</td>\n",
       "      <td>高科西路</td>\n",
       "      <td>234</td>\n",
       "      <td>17</td>\n",
       "      <td>3290</td>\n",
       "      <td>6</td>\n",
       "      <td>6</td>\n",
       "      <td>3290</td>\n",
       "    </tr>\n",
       "    <tr>\n",
       "      <th>3</th>\n",
       "      <td>合租·紫叶花园东园4居室-南卧</td>\n",
       "      <td>合租</td>\n",
       "      <td>北蔡</td>\n",
       "      <td>216</td>\n",
       "      <td>17</td>\n",
       "      <td>3030</td>\n",
       "      <td>5</td>\n",
       "      <td>6</td>\n",
       "      <td>3030</td>\n",
       "    </tr>\n",
       "    <tr>\n",
       "      <th>4</th>\n",
       "      <td>合租·仁和苑4居室-南卧</td>\n",
       "      <td>合租</td>\n",
       "      <td>江湾体育场</td>\n",
       "      <td>243</td>\n",
       "      <td>17</td>\n",
       "      <td>3990</td>\n",
       "      <td>7</td>\n",
       "      <td>12</td>\n",
       "      <td>3990</td>\n",
       "    </tr>\n",
       "  </tbody>\n",
       "</table>\n",
       "</div>"
      ],
      "text/plain": [
       "                 title type  metro  metro_distance  square  price  floor  \\\n",
       "0  合租·地杰国际城F欧香四季4居室-南卧   合租     御桥             191      18   3560     14   \n",
       "1        整租·华升公寓2室1厅-南   整租    江浦路             150      96   9460     20   \n",
       "2        合租·博爱家园4居室-南卧   合租   高科西路             234      17   3290      6   \n",
       "3      合租·紫叶花园东园4居室-南卧   合租     北蔡             216      17   3030      5   \n",
       "4         合租·仁和苑4居室-南卧   合租  江湾体育场             243      17   3990      7   \n",
       "\n",
       "   floors  mon_price  \n",
       "0      18       3560  \n",
       "1      34       9460  \n",
       "2       6       3290  \n",
       "3       6       3030  \n",
       "4      12       3990  "
      ]
     },
     "execution_count": 25,
     "metadata": {},
     "output_type": "execute_result"
    }
   ],
   "source": [
    "housing.head()"
   ]
  },
  {
   "cell_type": "code",
   "execution_count": 26,
   "metadata": {},
   "outputs": [
    {
     "data": {
      "text/html": [
       "<div>\n",
       "<style scoped>\n",
       "    .dataframe tbody tr th:only-of-type {\n",
       "        vertical-align: middle;\n",
       "    }\n",
       "\n",
       "    .dataframe tbody tr th {\n",
       "        vertical-align: top;\n",
       "    }\n",
       "\n",
       "    .dataframe thead th {\n",
       "        text-align: right;\n",
       "    }\n",
       "</style>\n",
       "<table border=\"1\" class=\"dataframe\">\n",
       "  <thead>\n",
       "    <tr style=\"text-align: right;\">\n",
       "      <th></th>\n",
       "      <th>title</th>\n",
       "      <th>type</th>\n",
       "      <th>metro</th>\n",
       "      <th>metro_distance</th>\n",
       "      <th>square</th>\n",
       "      <th>price</th>\n",
       "      <th>floor</th>\n",
       "      <th>floors</th>\n",
       "    </tr>\n",
       "  </thead>\n",
       "  <tbody>\n",
       "    <tr>\n",
       "      <th>0</th>\n",
       "      <td>合租·地杰国际城F欧香四季4居室-南卧</td>\n",
       "      <td>合租</td>\n",
       "      <td>御桥</td>\n",
       "      <td>191</td>\n",
       "      <td>18</td>\n",
       "      <td>3560</td>\n",
       "      <td>14</td>\n",
       "      <td>18</td>\n",
       "    </tr>\n",
       "    <tr>\n",
       "      <th>1</th>\n",
       "      <td>整租·华升公寓2室1厅-南</td>\n",
       "      <td>整租</td>\n",
       "      <td>江浦路</td>\n",
       "      <td>150</td>\n",
       "      <td>96</td>\n",
       "      <td>9460</td>\n",
       "      <td>20</td>\n",
       "      <td>34</td>\n",
       "    </tr>\n",
       "    <tr>\n",
       "      <th>2</th>\n",
       "      <td>合租·博爱家园4居室-南卧</td>\n",
       "      <td>合租</td>\n",
       "      <td>高科西路</td>\n",
       "      <td>234</td>\n",
       "      <td>17</td>\n",
       "      <td>3290</td>\n",
       "      <td>6</td>\n",
       "      <td>6</td>\n",
       "    </tr>\n",
       "    <tr>\n",
       "      <th>3</th>\n",
       "      <td>合租·紫叶花园东园4居室-南卧</td>\n",
       "      <td>合租</td>\n",
       "      <td>北蔡</td>\n",
       "      <td>216</td>\n",
       "      <td>17</td>\n",
       "      <td>3030</td>\n",
       "      <td>5</td>\n",
       "      <td>6</td>\n",
       "    </tr>\n",
       "    <tr>\n",
       "      <th>4</th>\n",
       "      <td>合租·仁和苑4居室-南卧</td>\n",
       "      <td>合租</td>\n",
       "      <td>江湾体育场</td>\n",
       "      <td>243</td>\n",
       "      <td>17</td>\n",
       "      <td>3990</td>\n",
       "      <td>7</td>\n",
       "      <td>12</td>\n",
       "    </tr>\n",
       "  </tbody>\n",
       "</table>\n",
       "</div>"
      ],
      "text/plain": [
       "                 title type  metro  metro_distance  square  price  floor  \\\n",
       "0  合租·地杰国际城F欧香四季4居室-南卧   合租     御桥             191      18   3560     14   \n",
       "1        整租·华升公寓2室1厅-南   整租    江浦路             150      96   9460     20   \n",
       "2        合租·博爱家园4居室-南卧   合租   高科西路             234      17   3290      6   \n",
       "3      合租·紫叶花园东园4居室-南卧   合租     北蔡             216      17   3030      5   \n",
       "4         合租·仁和苑4居室-南卧   合租  江湾体育场             243      17   3990      7   \n",
       "\n",
       "   floors  \n",
       "0      18  \n",
       "1      34  \n",
       "2       6  \n",
       "3       6  \n",
       "4      12  "
      ]
     },
     "execution_count": 26,
     "metadata": {},
     "output_type": "execute_result"
    }
   ],
   "source": [
    "housing['price']=housing['mon_price']\n",
    "housing=housing.drop('mon_price',axis=1)\n",
    "housing.head()"
   ]
  },
  {
   "cell_type": "code",
   "execution_count": 32,
   "metadata": {},
   "outputs": [
    {
     "data": {
      "text/plain": [
       "title             object\n",
       "type              object\n",
       "metro             object\n",
       "metro_distance     int64\n",
       "square             int64\n",
       "price              int64\n",
       "floor              int64\n",
       "floors             int64\n",
       "dtype: object"
      ]
     },
     "execution_count": 32,
     "metadata": {},
     "output_type": "execute_result"
    }
   ],
   "source": [
    "housing.dtypes"
   ]
  },
  {
   "cell_type": "code",
   "execution_count": 34,
   "metadata": {},
   "outputs": [
    {
     "data": {
      "text/html": [
       "<div>\n",
       "<style scoped>\n",
       "    .dataframe tbody tr th:only-of-type {\n",
       "        vertical-align: middle;\n",
       "    }\n",
       "\n",
       "    .dataframe tbody tr th {\n",
       "        vertical-align: top;\n",
       "    }\n",
       "\n",
       "    .dataframe thead th {\n",
       "        text-align: right;\n",
       "    }\n",
       "</style>\n",
       "<table border=\"1\" class=\"dataframe\">\n",
       "  <thead>\n",
       "    <tr style=\"text-align: right;\">\n",
       "      <th></th>\n",
       "      <th>distinct</th>\n",
       "      <th>station</th>\n",
       "    </tr>\n",
       "  </thead>\n",
       "  <tbody>\n",
       "    <tr>\n",
       "      <th>0</th>\n",
       "      <td>黄浦区</td>\n",
       "      <td>人民广场</td>\n",
       "    </tr>\n",
       "    <tr>\n",
       "      <th>1</th>\n",
       "      <td>黄浦区</td>\n",
       "      <td>南京东路</td>\n",
       "    </tr>\n",
       "    <tr>\n",
       "      <th>2</th>\n",
       "      <td>黄浦区</td>\n",
       "      <td>南浦大桥</td>\n",
       "    </tr>\n",
       "    <tr>\n",
       "      <th>3</th>\n",
       "      <td>黄浦区</td>\n",
       "      <td>大世界</td>\n",
       "    </tr>\n",
       "    <tr>\n",
       "      <th>4</th>\n",
       "      <td>黄浦区</td>\n",
       "      <td>小南门</td>\n",
       "    </tr>\n",
       "  </tbody>\n",
       "</table>\n",
       "</div>"
      ],
      "text/plain": [
       "  distinct station\n",
       "0      黄浦区    人民广场\n",
       "1      黄浦区    南京东路\n",
       "2      黄浦区    南浦大桥\n",
       "3      黄浦区     大世界\n",
       "4      黄浦区     小南门"
      ]
     },
     "execution_count": 34,
     "metadata": {},
     "output_type": "execute_result"
    }
   ],
   "source": [
    "station_df=pd.read_excel('上海各区地铁站分布.xlsx',header=0)\n",
    "station_df.head()"
   ]
  },
  {
   "cell_type": "code",
   "execution_count": 41,
   "metadata": {},
   "outputs": [
    {
     "name": "stdout",
     "output_type": "stream",
     "text": [
      "(1327, 10)\n"
     ]
    },
    {
     "data": {
      "text/html": [
       "<div>\n",
       "<style scoped>\n",
       "    .dataframe tbody tr th:only-of-type {\n",
       "        vertical-align: middle;\n",
       "    }\n",
       "\n",
       "    .dataframe tbody tr th {\n",
       "        vertical-align: top;\n",
       "    }\n",
       "\n",
       "    .dataframe thead th {\n",
       "        text-align: right;\n",
       "    }\n",
       "</style>\n",
       "<table border=\"1\" class=\"dataframe\">\n",
       "  <thead>\n",
       "    <tr style=\"text-align: right;\">\n",
       "      <th></th>\n",
       "      <th>title</th>\n",
       "      <th>type</th>\n",
       "      <th>metro</th>\n",
       "      <th>metro_distance</th>\n",
       "      <th>square</th>\n",
       "      <th>price</th>\n",
       "      <th>floor</th>\n",
       "      <th>floors</th>\n",
       "      <th>distinct</th>\n",
       "      <th>station</th>\n",
       "    </tr>\n",
       "  </thead>\n",
       "  <tbody>\n",
       "    <tr>\n",
       "      <th>0</th>\n",
       "      <td>合租·地杰国际城F欧香四季4居室-南卧</td>\n",
       "      <td>合租</td>\n",
       "      <td>御桥</td>\n",
       "      <td>191</td>\n",
       "      <td>18</td>\n",
       "      <td>3560</td>\n",
       "      <td>14</td>\n",
       "      <td>18</td>\n",
       "      <td>浦东新区</td>\n",
       "      <td>御桥</td>\n",
       "    </tr>\n",
       "    <tr>\n",
       "      <th>1</th>\n",
       "      <td>整租·华升公寓2室1厅-南</td>\n",
       "      <td>整租</td>\n",
       "      <td>江浦路</td>\n",
       "      <td>150</td>\n",
       "      <td>96</td>\n",
       "      <td>9460</td>\n",
       "      <td>20</td>\n",
       "      <td>34</td>\n",
       "      <td>杨浦区</td>\n",
       "      <td>江浦路</td>\n",
       "    </tr>\n",
       "    <tr>\n",
       "      <th>2</th>\n",
       "      <td>合租·博爱家园4居室-南卧</td>\n",
       "      <td>合租</td>\n",
       "      <td>高科西路</td>\n",
       "      <td>234</td>\n",
       "      <td>17</td>\n",
       "      <td>3290</td>\n",
       "      <td>6</td>\n",
       "      <td>6</td>\n",
       "      <td>浦东新区</td>\n",
       "      <td>高科西路</td>\n",
       "    </tr>\n",
       "    <tr>\n",
       "      <th>3</th>\n",
       "      <td>合租·紫叶花园东园4居室-南卧</td>\n",
       "      <td>合租</td>\n",
       "      <td>北蔡</td>\n",
       "      <td>216</td>\n",
       "      <td>17</td>\n",
       "      <td>3030</td>\n",
       "      <td>5</td>\n",
       "      <td>6</td>\n",
       "      <td>浦东新区</td>\n",
       "      <td>北蔡</td>\n",
       "    </tr>\n",
       "    <tr>\n",
       "      <th>4</th>\n",
       "      <td>合租·仁和苑4居室-南卧</td>\n",
       "      <td>合租</td>\n",
       "      <td>江湾体育场</td>\n",
       "      <td>243</td>\n",
       "      <td>17</td>\n",
       "      <td>3990</td>\n",
       "      <td>7</td>\n",
       "      <td>12</td>\n",
       "      <td>杨浦区</td>\n",
       "      <td>江湾体育场</td>\n",
       "    </tr>\n",
       "  </tbody>\n",
       "</table>\n",
       "</div>"
      ],
      "text/plain": [
       "                 title type  metro  metro_distance  square  price  floor  \\\n",
       "0  合租·地杰国际城F欧香四季4居室-南卧   合租     御桥             191      18   3560     14   \n",
       "1        整租·华升公寓2室1厅-南   整租    江浦路             150      96   9460     20   \n",
       "2        合租·博爱家园4居室-南卧   合租   高科西路             234      17   3290      6   \n",
       "3      合租·紫叶花园东园4居室-南卧   合租     北蔡             216      17   3030      5   \n",
       "4         合租·仁和苑4居室-南卧   合租  江湾体育场             243      17   3990      7   \n",
       "\n",
       "   floors distinct station  \n",
       "0      18     浦东新区      御桥  \n",
       "1      34      杨浦区     江浦路  \n",
       "2       6     浦东新区    高科西路  \n",
       "3       6     浦东新区      北蔡  \n",
       "4      12      杨浦区   江湾体育场  "
      ]
     },
     "execution_count": 41,
     "metadata": {},
     "output_type": "execute_result"
    }
   ],
   "source": [
    "Ziroom_housing=pd.merge(housing,station_df,left_on='metro',right_on='station',how='left')\n",
    "print(Ziroom_housing.shape)\n",
    "Ziroom_housing.head()"
   ]
  },
  {
   "cell_type": "code",
   "execution_count": 43,
   "metadata": {
    "scrolled": true
   },
   "outputs": [
    {
     "data": {
      "text/plain": [
       "(1290, 10)"
      ]
     },
     "execution_count": 43,
     "metadata": {},
     "output_type": "execute_result"
    }
   ],
   "source": [
    "Ziroom_housing= Ziroom_housing.dropna()\n",
    "Ziroom_housing.shape"
   ]
  },
  {
   "cell_type": "code",
   "execution_count": 45,
   "metadata": {},
   "outputs": [
    {
     "data": {
      "text/html": [
       "<div>\n",
       "<style scoped>\n",
       "    .dataframe tbody tr th:only-of-type {\n",
       "        vertical-align: middle;\n",
       "    }\n",
       "\n",
       "    .dataframe tbody tr th {\n",
       "        vertical-align: top;\n",
       "    }\n",
       "\n",
       "    .dataframe thead th {\n",
       "        text-align: right;\n",
       "    }\n",
       "</style>\n",
       "<table border=\"1\" class=\"dataframe\">\n",
       "  <thead>\n",
       "    <tr style=\"text-align: right;\">\n",
       "      <th></th>\n",
       "      <th>title</th>\n",
       "      <th>type</th>\n",
       "      <th>metro_distance</th>\n",
       "      <th>square</th>\n",
       "      <th>price</th>\n",
       "      <th>floor</th>\n",
       "      <th>floors</th>\n",
       "      <th>distinct</th>\n",
       "      <th>station</th>\n",
       "    </tr>\n",
       "  </thead>\n",
       "  <tbody>\n",
       "    <tr>\n",
       "      <th>0</th>\n",
       "      <td>合租·地杰国际城F欧香四季4居室-南卧</td>\n",
       "      <td>合租</td>\n",
       "      <td>191</td>\n",
       "      <td>18</td>\n",
       "      <td>3560</td>\n",
       "      <td>14</td>\n",
       "      <td>18</td>\n",
       "      <td>浦东新区</td>\n",
       "      <td>御桥</td>\n",
       "    </tr>\n",
       "  </tbody>\n",
       "</table>\n",
       "</div>"
      ],
      "text/plain": [
       "                 title type  metro_distance  square  price  floor  floors  \\\n",
       "0  合租·地杰国际城F欧香四季4居室-南卧   合租             191      18   3560     14      18   \n",
       "\n",
       "  distinct station  \n",
       "0     浦东新区      御桥  "
      ]
     },
     "execution_count": 45,
     "metadata": {},
     "output_type": "execute_result"
    }
   ],
   "source": [
    "Ziroom_housing.drop('metro',axis=1,inplace=True)\n",
    "Ziroom_housing.head(1)"
   ]
  },
  {
   "cell_type": "code",
   "execution_count": 46,
   "metadata": {},
   "outputs": [],
   "source": [
    "import csv\n",
    "Ziroom_housing.to_csv('Ziroom_shanghai.csv')"
   ]
  },
  {
   "cell_type": "code",
   "execution_count": null,
   "metadata": {},
   "outputs": [],
   "source": []
  }
 ],
 "metadata": {
  "kernelspec": {
   "display_name": "Python 3",
   "language": "python",
   "name": "python3"
  },
  "language_info": {
   "codemirror_mode": {
    "name": "ipython",
    "version": 3
   },
   "file_extension": ".py",
   "mimetype": "text/x-python",
   "name": "python",
   "nbconvert_exporter": "python",
   "pygments_lexer": "ipython3",
   "version": "3.8.3"
  }
 },
 "nbformat": 4,
 "nbformat_minor": 4
}
