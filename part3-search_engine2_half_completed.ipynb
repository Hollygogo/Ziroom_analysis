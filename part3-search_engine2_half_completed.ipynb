{
 "cells": [
  {
   "cell_type": "code",
   "execution_count": 32,
   "metadata": {},
   "outputs": [],
   "source": [
    "import os\n",
    "os.chdir('/users/jinyinzhe/downloads/')"
   ]
  },
  {
   "cell_type": "code",
   "execution_count": 1,
   "metadata": {},
   "outputs": [],
   "source": [
    "import requests\n",
    "from json import loads\n",
    "from math import radians,sin,cos,asin,sqrt"
   ]
  },
  {
   "cell_type": "code",
   "execution_count": 2,
   "metadata": {},
   "outputs": [],
   "source": [
    "KEY = '2dad61f0864b75f28845f3c432559915'"
   ]
  },
  {
   "cell_type": "code",
   "execution_count": 19,
   "metadata": {},
   "outputs": [],
   "source": [
    "def get_geocode(address):\n",
    "    global flag, finally_result\n",
    "    data = {\n",
    "        'key':KEY,\n",
    "        'address':address,\n",
    "    }\n",
    "    url = 'http://restapi.amap.com/v3/geocode/geo'\n",
    "    res = requests.get(url,data)\n",
    "    result = loads(res.text)\n",
    "    return result['geocodes'][0]['location']"
   ]
  },
  {
   "cell_type": "code",
   "execution_count": 28,
   "metadata": {},
   "outputs": [],
   "source": [
    "def distance_calc(startloc, endloc):\n",
    "    global finally_result\n",
    "    url = 'http://restapi.amap.com/v3/distance'\n",
    "    data = {\n",
    "        'key':KEY,\n",
    "        'origins':startloc,\n",
    "        'destination':endloc,\n",
    "    }\n",
    "    res = requests.get(url,data)\n",
    "    result = loads(res.text)\n",
    "    finally_result = str(float(result['results'][0]['distance'])*1.0/1000)\n",
    "    print(finally_result + '公里')"
   ]
  },
  {
   "cell_type": "code",
   "execution_count": 29,
   "metadata": {},
   "outputs": [
    {
     "name": "stdout",
     "output_type": "stream",
     "text": [
      "14.356公里\n"
     ]
    }
   ],
   "source": [
    "distance_calc('116.481028,39.989643','116.434446,39.90816')"
   ]
  },
  {
   "cell_type": "code",
   "execution_count": 68,
   "metadata": {
    "scrolled": true
   },
   "outputs": [
    {
     "data": {
      "text/plain": [
       "'121.573456,31.157557'"
      ]
     },
     "execution_count": 68,
     "metadata": {},
     "output_type": "execute_result"
    }
   ],
   "source": [
    "get_geocode('地杰国际城F欧香四季')"
   ]
  },
  {
   "cell_type": "code",
   "execution_count": 83,
   "metadata": {},
   "outputs": [],
   "source": [
    "import pandas as pd\n",
    "import re\n",
    "test_data = pd.read_csv('Ziroom_shanghai.csv')"
   ]
  },
  {
   "cell_type": "code",
   "execution_count": 86,
   "metadata": {},
   "outputs": [],
   "source": [
    "test_data['title_str']=str(test_data['title'])"
   ]
  },
  {
   "cell_type": "code",
   "execution_count": 89,
   "metadata": {},
   "outputs": [
    {
     "data": {
      "text/plain": [
       "['地杰国际城F欧香四季',\n",
       " '华升公寓2室',\n",
       " '博爱家园',\n",
       " '紫叶花园东园',\n",
       " '仁和苑',\n",
       " '锦河苑',\n",
       " '茂名公寓',\n",
       " '玉兰花苑',\n",
       " '西班牙名园',\n",
       " '闻喜华庭']"
      ]
     },
     "execution_count": 89,
     "metadata": {},
     "output_type": "execute_result"
    }
   ],
   "source": [
    "list_loc = [re.findall(r'\\D{2}·(.+)\\d.+',i) for i in test_data['title_str']]\n",
    "list_loc[0]"
   ]
  }
 ],
 "metadata": {
  "kernelspec": {
   "display_name": "Python 3",
   "language": "python",
   "name": "python3"
  },
  "language_info": {
   "codemirror_mode": {
    "name": "ipython",
    "version": 3
   },
   "file_extension": ".py",
   "mimetype": "text/x-python",
   "name": "python",
   "nbconvert_exporter": "python",
   "pygments_lexer": "ipython3",
   "version": "3.8.3"
  }
 },
 "nbformat": 4,
 "nbformat_minor": 4
}
