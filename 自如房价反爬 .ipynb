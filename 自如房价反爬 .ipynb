{
 "cells": [
  {
   "cell_type": "code",
   "execution_count": 86,
   "metadata": {},
   "outputs": [],
   "source": [
    "import pandas as pd\n",
    "pd.set_option('max_rows', None)\n",
    "pd.set_option('max_columns', None)\n",
    "from bs4 import BeautifulSoup\n",
    "from urllib.request import Request, urlopen, urlretrieve\n",
    "import time\n",
    "import re\n",
    "import pytesseract"
   ]
  },
  {
   "cell_type": "code",
   "execution_count": 74,
   "metadata": {},
   "outputs": [],
   "source": [
    "web = 'http://sh.ziroom.com/x/807719061.html'\n",
    "req = Request(web, headers={'User-Agent': 'Mozilla/5.0'})\n",
    "downloaded_web = urlopen(req).read()"
   ]
  },
  {
   "cell_type": "code",
   "execution_count": 75,
   "metadata": {},
   "outputs": [],
   "source": [
    "house = BeautifulSoup(downloaded_web)"
   ]
  },
  {
   "cell_type": "code",
   "execution_count": 76,
   "metadata": {},
   "outputs": [],
   "source": [
    "house_price = []\n",
    "get_price_code=house.find('div',class_='Z_price')\n",
    "for price_code in get_price_code.select('i'):\n",
    "    house_price.append(price_code.get('style'))"
   ]
  },
  {
   "cell_type": "code",
   "execution_count": 77,
   "metadata": {},
   "outputs": [
    {
     "data": {
      "text/plain": [
       "['background-position:-62.48px;background-image: url(//static8.ziroom.com/phoenix/pc/images/2019/price/a68621a4bca79938c464d8d728644642.png);',\n",
       " 'background-position:-281.16px;background-image: url(//static8.ziroom.com/phoenix/pc/images/2019/price/a68621a4bca79938c464d8d728644642.png);',\n",
       " 'background-position:-218.68px;background-image: url(//static8.ziroom.com/phoenix/pc/images/2019/price/a68621a4bca79938c464d8d728644642.png);',\n",
       " 'background-position:-31.24px;background-image: url(//static8.ziroom.com/phoenix/pc/images/2019/price/a68621a4bca79938c464d8d728644642.png);']"
      ]
     },
     "execution_count": 77,
     "metadata": {},
     "output_type": "execute_result"
    }
   ],
   "source": [
    "house_price"
   ]
  },
  {
   "cell_type": "code",
   "execution_count": 78,
   "metadata": {},
   "outputs": [
    {
     "data": {
      "text/plain": [
       "[['62.48'], ['281.16'], ['218.68'], ['31.24']]"
      ]
     },
     "execution_count": 78,
     "metadata": {},
     "output_type": "execute_result"
    }
   ],
   "source": [
    "position_list = [re.findall(r'background-position:-(.+)px',i) for i in house_price]\n",
    "position_list"
   ]
  },
  {
   "cell_type": "code",
   "execution_count": 105,
   "metadata": {},
   "outputs": [
    {
     "data": {
      "text/plain": [
       "[3, 10, 8, 2]"
      ]
     },
     "execution_count": 105,
     "metadata": {},
     "output_type": "execute_result"
    }
   ],
   "source": [
    "price_list = [int(float(j[0])/30+1) for j in position_list]\n",
    "price_list"
   ]
  },
  {
   "cell_type": "code",
   "execution_count": 80,
   "metadata": {},
   "outputs": [
    {
     "data": {
      "text/plain": [
       "'http://static8.ziroom.com/phoenix/pc/images/2019/price/a68621a4bca79938c464d8d728644642.png'"
      ]
     },
     "execution_count": 80,
     "metadata": {},
     "output_type": "execute_result"
    }
   ],
   "source": [
    "img_url = \"http:\" + re.findall(r'background-image: url\\((.*?)\\)',house_price[0])[0]\n",
    "img_url"
   ]
  },
  {
   "cell_type": "code",
   "execution_count": 100,
   "metadata": {},
   "outputs": [
    {
     "data": {
      "text/plain": [
       "'7034615982'"
      ]
     },
     "execution_count": 100,
     "metadata": {},
     "output_type": "execute_result"
    }
   ],
   "source": [
    "urlretrieve(img_url,'/users/jinyinzhe/downloads/background_img.png')\n",
    "text = pytesseract.image_to_string('/users/jinyinzhe/downloads/background_img.png')\n",
    "nums = text[:10]\n",
    "nums"
   ]
  },
  {
   "cell_type": "code",
   "execution_count": 101,
   "metadata": {},
   "outputs": [
    {
     "data": {
      "text/plain": [
       "['7', '0', '3', '4', '6', '1', '5', '9', '8', '2']"
      ]
     },
     "execution_count": 101,
     "metadata": {},
     "output_type": "execute_result"
    }
   ],
   "source": [
    "num = [i for i in nums]\n",
    "num"
   ]
  },
  {
   "cell_type": "code",
   "execution_count": 106,
   "metadata": {},
   "outputs": [
    {
     "data": {
      "text/plain": [
       "'￥3290/月'"
      ]
     },
     "execution_count": 106,
     "metadata": {},
     "output_type": "execute_result"
    }
   ],
   "source": [
    "price = \"￥\" + \"\".join([num[i-1] for i in price_list]) + \"/月\"\n",
    "price"
   ]
  }
 ],
 "metadata": {
  "kernelspec": {
   "display_name": "Python 3",
   "language": "python",
   "name": "python3"
  },
  "language_info": {
   "codemirror_mode": {
    "name": "ipython",
    "version": 3
   },
   "file_extension": ".py",
   "mimetype": "text/x-python",
   "name": "python",
   "nbconvert_exporter": "python",
   "pygments_lexer": "ipython3",
   "version": "3.8.3"
  }
 },
 "nbformat": 4,
 "nbformat_minor": 4
}
