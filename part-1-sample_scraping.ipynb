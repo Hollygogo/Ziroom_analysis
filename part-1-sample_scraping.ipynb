{
 "cells": [
  {
   "cell_type": "code",
   "execution_count": 132,
   "metadata": {},
   "outputs": [],
   "source": [
    "import os\n",
    "os.chdir('/users/jinyinzhe/downloads/')\n",
    "import pandas as pd\n",
    "pd.set_option('max_rows', None)\n",
    "pd.set_option('max_columns', None)\n",
    "from bs4 import BeautifulSoup\n",
    "from urllib.request import Request, urlopen, urlretrieve\n",
    "import re\n",
    "import pytesseract"
   ]
  },
  {
   "cell_type": "code",
   "execution_count": 133,
   "metadata": {
    "scrolled": true
   },
   "outputs": [],
   "source": [
    "web1 = 'http://sh.ziroom.com/z/p1/'\n",
    "req1 = Request(web1, headers={'User-Agent': 'Mozilla/5.0'})\n",
    "downloaded_web1 = urlopen(req1).read()\n",
    "house1 = BeautifulSoup(downloaded_web1)\n",
    "house_price1 = []\n",
    "get_price_code1=house1.find('div',class_='Z_list-box').find_all('span',class_='num')\n",
    "for price_code1 in get_price_code1:\n",
    "    house_price1.append(price_code1.get('style'))\n",
    "position_list1 = [re.findall(r'background-position: -(.+)px',i) for i in house_price1]\n",
    "price_list1 = [int(float(j[0])/21.4+1) for j in position_list1]\n",
    "img_url1 = \"http:\" + re.findall(r'background-image: url\\((.*?)\\)',house_price1[0])[0]\n",
    "urlretrieve(img_url1,'background_img1.png')\n",
    "text1 = pytesseract.image_to_string('background_img1.png',lang=\"eng\",config='--psm 6')\n",
    "nums1 = text1[:10]\n",
    "num1 = [i for i in nums1]\n",
    "price1 = [num1[i-1] for i in price_list1]"
   ]
  },
  {
   "cell_type": "code",
   "execution_count": 134,
   "metadata": {},
   "outputs": [
    {
     "data": {
      "text/plain": [
       "'9310867542\\n\\x0c'"
      ]
     },
     "execution_count": 134,
     "metadata": {},
     "output_type": "execute_result"
    }
   ],
   "source": [
    "text1"
   ]
  },
  {
   "cell_type": "code",
   "execution_count": 113,
   "metadata": {},
   "outputs": [],
   "source": [
    "digit=house1.find_all('div',class_='item')"
   ]
  },
  {
   "cell_type": "code",
   "execution_count": 114,
   "metadata": {},
   "outputs": [],
   "source": [
    "for i in range(len(digit)):\n",
    "    if 'data-location' not in str(digit[i]):\n",
    "        del digit[i]"
   ]
  },
  {
   "cell_type": "code",
   "execution_count": 115,
   "metadata": {},
   "outputs": [],
   "source": [
    "from selenium import webdriver\n",
    "from selenium.webdriver import ChromeOptions\n",
    "\n",
    "option = ChromeOptions()\n",
    "option.add_experimental_option('excludeSwitches', ['enable-automation'])\n",
    "driver = webdriver.Chrome(options=option)\n",
    "driver.get('http://sh.ziroom.com/z/p1/')"
   ]
  },
  {
   "cell_type": "code",
   "execution_count": 116,
   "metadata": {},
   "outputs": [],
   "source": [
    "house_price = []\n",
    "house_name = []\n",
    "house_square = []\n",
    "house_floor = []\n",
    "house_distance = []\n",
    "j = 0\n",
    "for i in range(30):\n",
    "    if i == 4:\n",
    "        continue\n",
    "    else:\n",
    "        l = len(digit[i].find_all('span',class_='num'))\n",
    "        price = ''.join(price1[j:j+l])\n",
    "        j = j+l\n",
    "        name_xpath = driver.find_element_by_xpath('/html/body/section/div[3]/div[2]/div['+str(i+1)+']/div[2]/h5/a')\n",
    "        name = name_xpath.text\n",
    "        square_floor_xpath = driver.find_element_by_xpath('/html/body/section/div[3]/div[2]/div['+str(i+1)+']/div[2]/div[1]/div[1]')\n",
    "        square = square_floor_xpath.text.split('|')[0]\n",
    "        floor = square_floor_xpath.text.split('|')[1]\n",
    "        distance_xpath = driver.find_element_by_xpath('/html/body/section/div[3]/div[2]/div['+str(i+1)+']/div[2]/div[1]/div[2]')\n",
    "        distance = distance_xpath.text\n",
    "        house_price.append(price)\n",
    "        house_name.append(name)\n",
    "        house_square.append(square)\n",
    "        house_floor.append(floor)\n",
    "        house_distance.append(distance)"
   ]
  },
  {
   "cell_type": "code",
   "execution_count": 117,
   "metadata": {},
   "outputs": [
    {
     "data": {
      "text/plain": [
       "['7496',\n",
       " '4196',\n",
       " '5716',\n",
       " '9566',\n",
       " '7616',\n",
       " '5616',\n",
       " '9966',\n",
       " '5166',\n",
       " '5816',\n",
       " '1816',\n",
       " '5916',\n",
       " '06016',\n",
       " '9696',\n",
       " '9096',\n",
       " '5696',\n",
       " '9616',\n",
       " '9116',\n",
       " '9416',\n",
       " '7066',\n",
       " '9166',\n",
       " '9966',\n",
       " '7096',\n",
       " '9016',\n",
       " '5416',\n",
       " '5116',\n",
       " '9696',\n",
       " '9166',\n",
       " '7616',\n",
       " '9566']"
      ]
     },
     "execution_count": 117,
     "metadata": {},
     "output_type": "execute_result"
    }
   ],
   "source": [
    "house_price"
   ]
  },
  {
   "cell_type": "code",
   "execution_count": null,
   "metadata": {},
   "outputs": [],
   "source": []
  }
 ],
 "metadata": {
  "kernelspec": {
   "display_name": "Python 3",
   "language": "python",
   "name": "python3"
  },
  "language_info": {
   "codemirror_mode": {
    "name": "ipython",
    "version": 3
   },
   "file_extension": ".py",
   "mimetype": "text/x-python",
   "name": "python",
   "nbconvert_exporter": "python",
   "pygments_lexer": "ipython3",
   "version": "3.8.3"
  }
 },
 "nbformat": 4,
 "nbformat_minor": 4
}
