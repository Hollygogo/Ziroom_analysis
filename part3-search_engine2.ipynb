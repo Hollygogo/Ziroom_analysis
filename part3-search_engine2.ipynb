{
 "cells": [
  {
   "cell_type": "code",
   "execution_count": 1,
   "metadata": {},
   "outputs": [],
   "source": [
    "import pandas as pd\n",
    "pd.set_option('max_rows', None)\n",
    "pd.set_option('max_columns', None)\n",
    "pd.set_option('display.max_colwidth', None)"
   ]
  },
  {
   "cell_type": "code",
   "execution_count": 2,
   "metadata": {},
   "outputs": [],
   "source": [
    "import os\n",
    "os.chdir('/users/jinyinzhe/downloads/')"
   ]
  },
  {
   "cell_type": "code",
   "execution_count": 3,
   "metadata": {},
   "outputs": [],
   "source": [
    "import requests\n",
    "from json import loads"
   ]
  },
  {
   "cell_type": "code",
   "execution_count": 4,
   "metadata": {},
   "outputs": [],
   "source": [
    "KEY = '2dad61f0864b75f28845f3c432559915'"
   ]
  },
  {
   "cell_type": "code",
   "execution_count": 5,
   "metadata": {},
   "outputs": [],
   "source": [
    "def get_geocode(address):\n",
    "    global flag, finally_result\n",
    "    data = {\n",
    "        'key':KEY,\n",
    "        'address':address,\n",
    "    }\n",
    "    url = 'http://restapi.amap.com/v3/geocode/geo'\n",
    "    res = requests.get(url,data)\n",
    "    result = loads(res.text)\n",
    "    return result['geocodes'][0]['location']"
   ]
  },
  {
   "cell_type": "code",
   "execution_count": 138,
   "metadata": {},
   "outputs": [],
   "source": [
    "def distance_calc(startloc, endloc):\n",
    "    global finally_result\n",
    "    url = 'http://restapi.amap.com/v3/distance'\n",
    "    data = {\n",
    "        'key':KEY,\n",
    "        'origins':startloc,\n",
    "        'destination':endloc,\n",
    "    }\n",
    "    res = requests.get(url,data)\n",
    "    result = loads(res.text)\n",
    "    finally_result = str(float(result['results'][0]['distance'])*1.0/1000)\n",
    "    return finally_result"
   ]
  },
  {
   "cell_type": "code",
   "execution_count": 7,
   "metadata": {},
   "outputs": [
    {
     "name": "stdout",
     "output_type": "stream",
     "text": [
      "14.356公里\n"
     ]
    }
   ],
   "source": [
    "distance_calc('116.481028,39.989643','116.434446,39.90816')"
   ]
  },
  {
   "cell_type": "code",
   "execution_count": 83,
   "metadata": {
    "scrolled": true
   },
   "outputs": [
    {
     "data": {
      "text/plain": [
       "'121.500845,31.256659'"
      ]
     },
     "execution_count": 83,
     "metadata": {},
     "output_type": "execute_result"
    }
   ],
   "source": [
    "get_geocode('上海景泰大楼3居室')"
   ]
  },
  {
   "cell_type": "code",
   "execution_count": 111,
   "metadata": {},
   "outputs": [],
   "source": [
    "import re\n",
    "test_data = pd.read_csv('Ziroom_shanghai.csv')"
   ]
  },
  {
   "cell_type": "code",
   "execution_count": 112,
   "metadata": {},
   "outputs": [],
   "source": [
    "test_data['loc']=test_data['title'].apply(lambda x: x.split('·')[1]).apply(lambda x: '上海'+x.split('-')[0])\n",
    "test_data.head()\n",
    "test_data.drop(columns='Unnamed: 0',inplace=True)"
   ]
  },
  {
   "cell_type": "code",
   "execution_count": 113,
   "metadata": {
    "scrolled": true
   },
   "outputs": [
    {
     "data": {
      "text/html": [
       "<div>\n",
       "<style scoped>\n",
       "    .dataframe tbody tr th:only-of-type {\n",
       "        vertical-align: middle;\n",
       "    }\n",
       "\n",
       "    .dataframe tbody tr th {\n",
       "        vertical-align: top;\n",
       "    }\n",
       "\n",
       "    .dataframe thead th {\n",
       "        text-align: right;\n",
       "    }\n",
       "</style>\n",
       "<table border=\"1\" class=\"dataframe\">\n",
       "  <thead>\n",
       "    <tr style=\"text-align: right;\">\n",
       "      <th></th>\n",
       "      <th>title</th>\n",
       "      <th>type</th>\n",
       "      <th>metro_distance</th>\n",
       "      <th>square</th>\n",
       "      <th>price</th>\n",
       "      <th>floor</th>\n",
       "      <th>floors</th>\n",
       "      <th>distinct</th>\n",
       "      <th>station</th>\n",
       "      <th>loc</th>\n",
       "    </tr>\n",
       "  </thead>\n",
       "  <tbody>\n",
       "    <tr>\n",
       "      <th>0</th>\n",
       "      <td>合租·地杰国际城F欧香四季4居室-南卧</td>\n",
       "      <td>合租</td>\n",
       "      <td>191</td>\n",
       "      <td>18</td>\n",
       "      <td>3560</td>\n",
       "      <td>14</td>\n",
       "      <td>18</td>\n",
       "      <td>浦东新区</td>\n",
       "      <td>御桥</td>\n",
       "      <td>上海地杰国际城F欧香四季4居室</td>\n",
       "    </tr>\n",
       "    <tr>\n",
       "      <th>1</th>\n",
       "      <td>整租·华升公寓2室1厅-南</td>\n",
       "      <td>整租</td>\n",
       "      <td>150</td>\n",
       "      <td>96</td>\n",
       "      <td>9460</td>\n",
       "      <td>20</td>\n",
       "      <td>34</td>\n",
       "      <td>杨浦区</td>\n",
       "      <td>江浦路</td>\n",
       "      <td>上海华升公寓2室1厅</td>\n",
       "    </tr>\n",
       "    <tr>\n",
       "      <th>2</th>\n",
       "      <td>合租·博爱家园4居室-南卧</td>\n",
       "      <td>合租</td>\n",
       "      <td>234</td>\n",
       "      <td>17</td>\n",
       "      <td>3290</td>\n",
       "      <td>6</td>\n",
       "      <td>6</td>\n",
       "      <td>浦东新区</td>\n",
       "      <td>高科西路</td>\n",
       "      <td>上海博爱家园4居室</td>\n",
       "    </tr>\n",
       "    <tr>\n",
       "      <th>3</th>\n",
       "      <td>合租·紫叶花园东园4居室-南卧</td>\n",
       "      <td>合租</td>\n",
       "      <td>216</td>\n",
       "      <td>17</td>\n",
       "      <td>3030</td>\n",
       "      <td>5</td>\n",
       "      <td>6</td>\n",
       "      <td>浦东新区</td>\n",
       "      <td>北蔡</td>\n",
       "      <td>上海紫叶花园东园4居室</td>\n",
       "    </tr>\n",
       "    <tr>\n",
       "      <th>4</th>\n",
       "      <td>合租·仁和苑4居室-南卧</td>\n",
       "      <td>合租</td>\n",
       "      <td>243</td>\n",
       "      <td>17</td>\n",
       "      <td>3990</td>\n",
       "      <td>7</td>\n",
       "      <td>12</td>\n",
       "      <td>杨浦区</td>\n",
       "      <td>江湾体育场</td>\n",
       "      <td>上海仁和苑4居室</td>\n",
       "    </tr>\n",
       "  </tbody>\n",
       "</table>\n",
       "</div>"
      ],
      "text/plain": [
       "                 title type  metro_distance  square  price  floor  floors  \\\n",
       "0  合租·地杰国际城F欧香四季4居室-南卧   合租             191      18   3560     14      18   \n",
       "1        整租·华升公寓2室1厅-南   整租             150      96   9460     20      34   \n",
       "2        合租·博爱家园4居室-南卧   合租             234      17   3290      6       6   \n",
       "3      合租·紫叶花园东园4居室-南卧   合租             216      17   3030      5       6   \n",
       "4         合租·仁和苑4居室-南卧   合租             243      17   3990      7      12   \n",
       "\n",
       "  distinct station              loc  \n",
       "0     浦东新区      御桥  上海地杰国际城F欧香四季4居室  \n",
       "1      杨浦区     江浦路       上海华升公寓2室1厅  \n",
       "2     浦东新区    高科西路        上海博爱家园4居室  \n",
       "3     浦东新区      北蔡      上海紫叶花园东园4居室  \n",
       "4      杨浦区   江湾体育场         上海仁和苑4居室  "
      ]
     },
     "execution_count": 113,
     "metadata": {},
     "output_type": "execute_result"
    }
   ],
   "source": [
    "test_data.head()"
   ]
  },
  {
   "cell_type": "code",
   "execution_count": 114,
   "metadata": {},
   "outputs": [],
   "source": [
    "def try_geocode(address):\n",
    "    try:\n",
    "        geocode = get_geocode(address)\n",
    "    except:\n",
    "        geocode = None\n",
    "    return geocode"
   ]
  },
  {
   "cell_type": "code",
   "execution_count": 115,
   "metadata": {},
   "outputs": [],
   "source": [
    "def try_distance(startloc, endloc):\n",
    "    try:\n",
    "        distance = distance_calc(startloc, endloc)\n",
    "    except:\n",
    "        distance = None\n",
    "    return distance"
   ]
  },
  {
   "cell_type": "code",
   "execution_count": 116,
   "metadata": {},
   "outputs": [
    {
     "data": {
      "text/html": [
       "<div>\n",
       "<style scoped>\n",
       "    .dataframe tbody tr th:only-of-type {\n",
       "        vertical-align: middle;\n",
       "    }\n",
       "\n",
       "    .dataframe tbody tr th {\n",
       "        vertical-align: top;\n",
       "    }\n",
       "\n",
       "    .dataframe thead th {\n",
       "        text-align: right;\n",
       "    }\n",
       "</style>\n",
       "<table border=\"1\" class=\"dataframe\">\n",
       "  <thead>\n",
       "    <tr style=\"text-align: right;\">\n",
       "      <th></th>\n",
       "      <th>title</th>\n",
       "      <th>type</th>\n",
       "      <th>metro_distance</th>\n",
       "      <th>square</th>\n",
       "      <th>price</th>\n",
       "      <th>floor</th>\n",
       "      <th>floors</th>\n",
       "      <th>distinct</th>\n",
       "      <th>station</th>\n",
       "      <th>loc</th>\n",
       "      <th>geocode</th>\n",
       "    </tr>\n",
       "  </thead>\n",
       "  <tbody>\n",
       "    <tr>\n",
       "      <th>0</th>\n",
       "      <td>合租·地杰国际城F欧香四季4居室-南卧</td>\n",
       "      <td>合租</td>\n",
       "      <td>191</td>\n",
       "      <td>18</td>\n",
       "      <td>3560</td>\n",
       "      <td>14</td>\n",
       "      <td>18</td>\n",
       "      <td>浦东新区</td>\n",
       "      <td>御桥</td>\n",
       "      <td>上海地杰国际城F欧香四季4居室</td>\n",
       "      <td>121.573346,31.157157</td>\n",
       "    </tr>\n",
       "    <tr>\n",
       "      <th>1</th>\n",
       "      <td>整租·华升公寓2室1厅-南</td>\n",
       "      <td>整租</td>\n",
       "      <td>150</td>\n",
       "      <td>96</td>\n",
       "      <td>9460</td>\n",
       "      <td>20</td>\n",
       "      <td>34</td>\n",
       "      <td>杨浦区</td>\n",
       "      <td>江浦路</td>\n",
       "      <td>上海华升公寓2室1厅</td>\n",
       "      <td>121.519760,31.274626</td>\n",
       "    </tr>\n",
       "    <tr>\n",
       "      <th>2</th>\n",
       "      <td>合租·博爱家园4居室-南卧</td>\n",
       "      <td>合租</td>\n",
       "      <td>234</td>\n",
       "      <td>17</td>\n",
       "      <td>3290</td>\n",
       "      <td>6</td>\n",
       "      <td>6</td>\n",
       "      <td>浦东新区</td>\n",
       "      <td>高科西路</td>\n",
       "      <td>上海博爱家园4居室</td>\n",
       "      <td>121.510875,31.183750</td>\n",
       "    </tr>\n",
       "    <tr>\n",
       "      <th>3</th>\n",
       "      <td>合租·紫叶花园东园4居室-南卧</td>\n",
       "      <td>合租</td>\n",
       "      <td>216</td>\n",
       "      <td>17</td>\n",
       "      <td>3030</td>\n",
       "      <td>5</td>\n",
       "      <td>6</td>\n",
       "      <td>浦东新区</td>\n",
       "      <td>北蔡</td>\n",
       "      <td>上海紫叶花园东园4居室</td>\n",
       "      <td>121.552598,31.182130</td>\n",
       "    </tr>\n",
       "    <tr>\n",
       "      <th>4</th>\n",
       "      <td>合租·仁和苑4居室-南卧</td>\n",
       "      <td>合租</td>\n",
       "      <td>243</td>\n",
       "      <td>17</td>\n",
       "      <td>3990</td>\n",
       "      <td>7</td>\n",
       "      <td>12</td>\n",
       "      <td>杨浦区</td>\n",
       "      <td>江湾体育场</td>\n",
       "      <td>上海仁和苑4居室</td>\n",
       "      <td>121.511715,31.302374</td>\n",
       "    </tr>\n",
       "  </tbody>\n",
       "</table>\n",
       "</div>"
      ],
      "text/plain": [
       "                 title type  metro_distance  square  price  floor  floors  \\\n",
       "0  合租·地杰国际城F欧香四季4居室-南卧   合租             191      18   3560     14      18   \n",
       "1        整租·华升公寓2室1厅-南   整租             150      96   9460     20      34   \n",
       "2        合租·博爱家园4居室-南卧   合租             234      17   3290      6       6   \n",
       "3      合租·紫叶花园东园4居室-南卧   合租             216      17   3030      5       6   \n",
       "4         合租·仁和苑4居室-南卧   合租             243      17   3990      7      12   \n",
       "\n",
       "  distinct station              loc               geocode  \n",
       "0     浦东新区      御桥  上海地杰国际城F欧香四季4居室  121.573346,31.157157  \n",
       "1      杨浦区     江浦路       上海华升公寓2室1厅  121.519760,31.274626  \n",
       "2     浦东新区    高科西路        上海博爱家园4居室  121.510875,31.183750  \n",
       "3     浦东新区      北蔡      上海紫叶花园东园4居室  121.552598,31.182130  \n",
       "4      杨浦区   江湾体育场         上海仁和苑4居室  121.511715,31.302374  "
      ]
     },
     "execution_count": 116,
     "metadata": {},
     "output_type": "execute_result"
    }
   ],
   "source": [
    "test_data['geocode']=test_data['loc'].map(try_geocode)\n",
    "test_data.head()"
   ]
  },
  {
   "cell_type": "code",
   "execution_count": 117,
   "metadata": {},
   "outputs": [
    {
     "data": {
      "text/plain": [
       "title             0\n",
       "type              0\n",
       "metro_distance    0\n",
       "square            0\n",
       "price             0\n",
       "floor             0\n",
       "floors            0\n",
       "distinct          0\n",
       "station           0\n",
       "loc               0\n",
       "geocode           1\n",
       "dtype: int64"
      ]
     },
     "execution_count": 117,
     "metadata": {},
     "output_type": "execute_result"
    }
   ],
   "source": [
    "test_data.isnull().sum()"
   ]
  },
  {
   "cell_type": "code",
   "execution_count": 118,
   "metadata": {},
   "outputs": [
    {
     "name": "stdout",
     "output_type": "stream",
     "text": [
      "陆家嘴\n"
     ]
    },
    {
     "data": {
      "text/plain": [
       "'121.525490,31.237185'"
      ]
     },
     "execution_count": 118,
     "metadata": {},
     "output_type": "execute_result"
    }
   ],
   "source": [
    "endloc = try_geocode(input())\n",
    "endloc"
   ]
  },
  {
   "cell_type": "code",
   "execution_count": 139,
   "metadata": {},
   "outputs": [],
   "source": [
    "test_data['distance']=test_data['geocode'].apply(lambda x: try_distance(x,endloc))"
   ]
  },
  {
   "cell_type": "code",
   "execution_count": 140,
   "metadata": {
    "scrolled": true
   },
   "outputs": [
    {
     "data": {
      "text/html": [
       "<div>\n",
       "<style scoped>\n",
       "    .dataframe tbody tr th:only-of-type {\n",
       "        vertical-align: middle;\n",
       "    }\n",
       "\n",
       "    .dataframe tbody tr th {\n",
       "        vertical-align: top;\n",
       "    }\n",
       "\n",
       "    .dataframe thead th {\n",
       "        text-align: right;\n",
       "    }\n",
       "</style>\n",
       "<table border=\"1\" class=\"dataframe\">\n",
       "  <thead>\n",
       "    <tr style=\"text-align: right;\">\n",
       "      <th></th>\n",
       "      <th>title</th>\n",
       "      <th>type</th>\n",
       "      <th>metro_distance</th>\n",
       "      <th>square</th>\n",
       "      <th>price</th>\n",
       "      <th>floor</th>\n",
       "      <th>floors</th>\n",
       "      <th>distinct</th>\n",
       "      <th>station</th>\n",
       "      <th>loc</th>\n",
       "      <th>geocode</th>\n",
       "      <th>distance</th>\n",
       "    </tr>\n",
       "  </thead>\n",
       "  <tbody>\n",
       "    <tr>\n",
       "      <th>0</th>\n",
       "      <td>合租·地杰国际城F欧香四季4居室-南卧</td>\n",
       "      <td>合租</td>\n",
       "      <td>191</td>\n",
       "      <td>18</td>\n",
       "      <td>3560</td>\n",
       "      <td>14</td>\n",
       "      <td>18</td>\n",
       "      <td>浦东新区</td>\n",
       "      <td>御桥</td>\n",
       "      <td>上海地杰国际城F欧香四季4居室</td>\n",
       "      <td>121.573346,31.157157</td>\n",
       "      <td>15.324</td>\n",
       "    </tr>\n",
       "    <tr>\n",
       "      <th>1</th>\n",
       "      <td>整租·华升公寓2室1厅-南</td>\n",
       "      <td>整租</td>\n",
       "      <td>150</td>\n",
       "      <td>96</td>\n",
       "      <td>9460</td>\n",
       "      <td>20</td>\n",
       "      <td>34</td>\n",
       "      <td>杨浦区</td>\n",
       "      <td>江浦路</td>\n",
       "      <td>上海华升公寓2室1厅</td>\n",
       "      <td>121.519760,31.274626</td>\n",
       "      <td>7.0</td>\n",
       "    </tr>\n",
       "    <tr>\n",
       "      <th>2</th>\n",
       "      <td>合租·博爱家园4居室-南卧</td>\n",
       "      <td>合租</td>\n",
       "      <td>234</td>\n",
       "      <td>17</td>\n",
       "      <td>3290</td>\n",
       "      <td>6</td>\n",
       "      <td>6</td>\n",
       "      <td>浦东新区</td>\n",
       "      <td>高科西路</td>\n",
       "      <td>上海博爱家园4居室</td>\n",
       "      <td>121.510875,31.183750</td>\n",
       "      <td>7.292</td>\n",
       "    </tr>\n",
       "    <tr>\n",
       "      <th>3</th>\n",
       "      <td>合租·紫叶花园东园4居室-南卧</td>\n",
       "      <td>合租</td>\n",
       "      <td>216</td>\n",
       "      <td>17</td>\n",
       "      <td>3030</td>\n",
       "      <td>5</td>\n",
       "      <td>6</td>\n",
       "      <td>浦东新区</td>\n",
       "      <td>北蔡</td>\n",
       "      <td>上海紫叶花园东园4居室</td>\n",
       "      <td>121.552598,31.182130</td>\n",
       "      <td>8.589</td>\n",
       "    </tr>\n",
       "    <tr>\n",
       "      <th>4</th>\n",
       "      <td>合租·仁和苑4居室-南卧</td>\n",
       "      <td>合租</td>\n",
       "      <td>243</td>\n",
       "      <td>17</td>\n",
       "      <td>3990</td>\n",
       "      <td>7</td>\n",
       "      <td>12</td>\n",
       "      <td>杨浦区</td>\n",
       "      <td>江湾体育场</td>\n",
       "      <td>上海仁和苑4居室</td>\n",
       "      <td>121.511715,31.302374</td>\n",
       "      <td>10.059</td>\n",
       "    </tr>\n",
       "  </tbody>\n",
       "</table>\n",
       "</div>"
      ],
      "text/plain": [
       "                 title type  metro_distance  square  price  floor  floors  \\\n",
       "0  合租·地杰国际城F欧香四季4居室-南卧   合租             191      18   3560     14      18   \n",
       "1        整租·华升公寓2室1厅-南   整租             150      96   9460     20      34   \n",
       "2        合租·博爱家园4居室-南卧   合租             234      17   3290      6       6   \n",
       "3      合租·紫叶花园东园4居室-南卧   合租             216      17   3030      5       6   \n",
       "4         合租·仁和苑4居室-南卧   合租             243      17   3990      7      12   \n",
       "\n",
       "  distinct station              loc               geocode distance  \n",
       "0     浦东新区      御桥  上海地杰国际城F欧香四季4居室  121.573346,31.157157   15.324  \n",
       "1      杨浦区     江浦路       上海华升公寓2室1厅  121.519760,31.274626      7.0  \n",
       "2     浦东新区    高科西路        上海博爱家园4居室  121.510875,31.183750    7.292  \n",
       "3     浦东新区      北蔡      上海紫叶花园东园4居室  121.552598,31.182130    8.589  \n",
       "4      杨浦区   江湾体育场         上海仁和苑4居室  121.511715,31.302374   10.059  "
      ]
     },
     "execution_count": 140,
     "metadata": {},
     "output_type": "execute_result"
    }
   ],
   "source": [
    "test_data.head()"
   ]
  },
  {
   "cell_type": "code",
   "execution_count": 130,
   "metadata": {},
   "outputs": [],
   "source": [
    "def utility(x1,x2,a,b):\n",
    "        u = x1**a+x2**b\n",
    "        return u"
   ]
  },
  {
   "cell_type": "code",
   "execution_count": 131,
   "metadata": {},
   "outputs": [],
   "source": [
    "x1 = test_data['price']\n",
    "x2 = test_data['distance']"
   ]
  },
  {
   "cell_type": "code",
   "execution_count": 144,
   "metadata": {},
   "outputs": [
    {
     "name": "stdout",
     "output_type": "stream",
     "text": [
      "0.5\n",
      "0.5\n"
     ]
    }
   ],
   "source": [
    "a=float(input())\n",
    "b=float(input())"
   ]
  },
  {
   "cell_type": "code",
   "execution_count": 153,
   "metadata": {},
   "outputs": [
    {
     "ename": "SyntaxError",
     "evalue": "invalid syntax (<ipython-input-153-efa042865c8e>, line 1)",
     "output_type": "error",
     "traceback": [
      "\u001b[0;36m  File \u001b[0;32m\"<ipython-input-153-efa042865c8e>\"\u001b[0;36m, line \u001b[0;32m1\u001b[0m\n\u001b[0;31m    test_data['u'] = test_data.apply(test_data,args=(utility(int(test_data['price']),int(round(float(test_data['distance']))),a,b),axis=1)\u001b[0m\n\u001b[0m                                                                                                                                       ^\u001b[0m\n\u001b[0;31mSyntaxError\u001b[0m\u001b[0;31m:\u001b[0m invalid syntax\n"
     ]
    }
   ],
   "source": [
    "test_data['u'] = test_data.apply(test_data,args=(utility(int(test_data['price']),int(round(float(test_data['distance']))),a,b),axis=1)"
   ]
  },
  {
   "cell_type": "code",
   "execution_count": 152,
   "metadata": {
    "scrolled": true
   },
   "outputs": [
    {
     "ename": "TypeError",
     "evalue": "float expected at most 1 argument, got 2",
     "output_type": "error",
     "traceback": [
      "\u001b[0;31m---------------------------------------------------------------------------\u001b[0m",
      "\u001b[0;31mTypeError\u001b[0m                                 Traceback (most recent call last)",
      "\u001b[0;32m<ipython-input-152-5fc2b7e9970c>\u001b[0m in \u001b[0;36m<module>\u001b[0;34m\u001b[0m\n\u001b[0;32m----> 1\u001b[0;31m \u001b[0mtest_data\u001b[0m\u001b[0;34m[\u001b[0m\u001b[0;34m'u'\u001b[0m\u001b[0;34m]\u001b[0m \u001b[0;34m=\u001b[0m \u001b[0mtest_data\u001b[0m\u001b[0;34m.\u001b[0m\u001b[0mapply\u001b[0m\u001b[0;34m(\u001b[0m\u001b[0;32mlambda\u001b[0m \u001b[0mx\u001b[0m\u001b[0;34m:\u001b[0m \u001b[0mutility\u001b[0m\u001b[0;34m(\u001b[0m\u001b[0mint\u001b[0m\u001b[0;34m(\u001b[0m\u001b[0mx\u001b[0m\u001b[0;34m[\u001b[0m\u001b[0;34m'price'\u001b[0m\u001b[0;34m]\u001b[0m\u001b[0;34m)\u001b[0m\u001b[0;34m,\u001b[0m\u001b[0mint\u001b[0m\u001b[0;34m(\u001b[0m\u001b[0mround\u001b[0m\u001b[0;34m(\u001b[0m\u001b[0mfloat\u001b[0m\u001b[0;34m(\u001b[0m\u001b[0mx\u001b[0m\u001b[0;34m[\u001b[0m\u001b[0;34m'distance'\u001b[0m\u001b[0;34m]\u001b[0m\u001b[0;34m,\u001b[0m\u001b[0;36m0\u001b[0m\u001b[0;34m)\u001b[0m\u001b[0;34m)\u001b[0m\u001b[0;34m)\u001b[0m\u001b[0;34m,\u001b[0m\u001b[0ma\u001b[0m\u001b[0;34m,\u001b[0m\u001b[0mb\u001b[0m\u001b[0;34m)\u001b[0m\u001b[0;34m,\u001b[0m \u001b[0maxis\u001b[0m\u001b[0;34m=\u001b[0m\u001b[0;36m1\u001b[0m\u001b[0;34m)\u001b[0m\u001b[0;34m\u001b[0m\u001b[0;34m\u001b[0m\u001b[0m\n\u001b[0m",
      "\u001b[0;32m/opt/anaconda3/lib/python3.8/site-packages/pandas/core/frame.py\u001b[0m in \u001b[0;36mapply\u001b[0;34m(self, func, axis, raw, result_type, args, **kwds)\u001b[0m\n\u001b[1;32m   6876\u001b[0m             \u001b[0mkwds\u001b[0m\u001b[0;34m=\u001b[0m\u001b[0mkwds\u001b[0m\u001b[0;34m,\u001b[0m\u001b[0;34m\u001b[0m\u001b[0;34m\u001b[0m\u001b[0m\n\u001b[1;32m   6877\u001b[0m         )\n\u001b[0;32m-> 6878\u001b[0;31m         \u001b[0;32mreturn\u001b[0m \u001b[0mop\u001b[0m\u001b[0;34m.\u001b[0m\u001b[0mget_result\u001b[0m\u001b[0;34m(\u001b[0m\u001b[0;34m)\u001b[0m\u001b[0;34m\u001b[0m\u001b[0;34m\u001b[0m\u001b[0m\n\u001b[0m\u001b[1;32m   6879\u001b[0m \u001b[0;34m\u001b[0m\u001b[0m\n\u001b[1;32m   6880\u001b[0m     \u001b[0;32mdef\u001b[0m \u001b[0mapplymap\u001b[0m\u001b[0;34m(\u001b[0m\u001b[0mself\u001b[0m\u001b[0;34m,\u001b[0m \u001b[0mfunc\u001b[0m\u001b[0;34m)\u001b[0m \u001b[0;34m->\u001b[0m \u001b[0;34m\"DataFrame\"\u001b[0m\u001b[0;34m:\u001b[0m\u001b[0;34m\u001b[0m\u001b[0;34m\u001b[0m\u001b[0m\n",
      "\u001b[0;32m/opt/anaconda3/lib/python3.8/site-packages/pandas/core/apply.py\u001b[0m in \u001b[0;36mget_result\u001b[0;34m(self)\u001b[0m\n\u001b[1;32m    184\u001b[0m             \u001b[0;32mreturn\u001b[0m \u001b[0mself\u001b[0m\u001b[0;34m.\u001b[0m\u001b[0mapply_raw\u001b[0m\u001b[0;34m(\u001b[0m\u001b[0;34m)\u001b[0m\u001b[0;34m\u001b[0m\u001b[0;34m\u001b[0m\u001b[0m\n\u001b[1;32m    185\u001b[0m \u001b[0;34m\u001b[0m\u001b[0m\n\u001b[0;32m--> 186\u001b[0;31m         \u001b[0;32mreturn\u001b[0m \u001b[0mself\u001b[0m\u001b[0;34m.\u001b[0m\u001b[0mapply_standard\u001b[0m\u001b[0;34m(\u001b[0m\u001b[0;34m)\u001b[0m\u001b[0;34m\u001b[0m\u001b[0;34m\u001b[0m\u001b[0m\n\u001b[0m\u001b[1;32m    187\u001b[0m \u001b[0;34m\u001b[0m\u001b[0m\n\u001b[1;32m    188\u001b[0m     \u001b[0;32mdef\u001b[0m \u001b[0mapply_empty_result\u001b[0m\u001b[0;34m(\u001b[0m\u001b[0mself\u001b[0m\u001b[0;34m)\u001b[0m\u001b[0;34m:\u001b[0m\u001b[0;34m\u001b[0m\u001b[0;34m\u001b[0m\u001b[0m\n",
      "\u001b[0;32m/opt/anaconda3/lib/python3.8/site-packages/pandas/core/apply.py\u001b[0m in \u001b[0;36mapply_standard\u001b[0;34m(self)\u001b[0m\n\u001b[1;32m    293\u001b[0m \u001b[0;34m\u001b[0m\u001b[0m\n\u001b[1;32m    294\u001b[0m             \u001b[0;32mtry\u001b[0m\u001b[0;34m:\u001b[0m\u001b[0;34m\u001b[0m\u001b[0;34m\u001b[0m\u001b[0m\n\u001b[0;32m--> 295\u001b[0;31m                 result = libreduction.compute_reduction(\n\u001b[0m\u001b[1;32m    296\u001b[0m                     \u001b[0mvalues\u001b[0m\u001b[0;34m,\u001b[0m \u001b[0mself\u001b[0m\u001b[0;34m.\u001b[0m\u001b[0mf\u001b[0m\u001b[0;34m,\u001b[0m \u001b[0maxis\u001b[0m\u001b[0;34m=\u001b[0m\u001b[0mself\u001b[0m\u001b[0;34m.\u001b[0m\u001b[0maxis\u001b[0m\u001b[0;34m,\u001b[0m \u001b[0mdummy\u001b[0m\u001b[0;34m=\u001b[0m\u001b[0mdummy\u001b[0m\u001b[0;34m,\u001b[0m \u001b[0mlabels\u001b[0m\u001b[0;34m=\u001b[0m\u001b[0mlabels\u001b[0m\u001b[0;34m\u001b[0m\u001b[0;34m\u001b[0m\u001b[0m\n\u001b[1;32m    297\u001b[0m                 )\n",
      "\u001b[0;32mpandas/_libs/reduction.pyx\u001b[0m in \u001b[0;36mpandas._libs.reduction.compute_reduction\u001b[0;34m()\u001b[0m\n",
      "\u001b[0;32mpandas/_libs/reduction.pyx\u001b[0m in \u001b[0;36mpandas._libs.reduction.Reducer.get_result\u001b[0;34m()\u001b[0m\n",
      "\u001b[0;32m<ipython-input-152-5fc2b7e9970c>\u001b[0m in \u001b[0;36m<lambda>\u001b[0;34m(x)\u001b[0m\n\u001b[0;32m----> 1\u001b[0;31m \u001b[0mtest_data\u001b[0m\u001b[0;34m[\u001b[0m\u001b[0;34m'u'\u001b[0m\u001b[0;34m]\u001b[0m \u001b[0;34m=\u001b[0m \u001b[0mtest_data\u001b[0m\u001b[0;34m.\u001b[0m\u001b[0mapply\u001b[0m\u001b[0;34m(\u001b[0m\u001b[0;32mlambda\u001b[0m \u001b[0mx\u001b[0m\u001b[0;34m:\u001b[0m \u001b[0mutility\u001b[0m\u001b[0;34m(\u001b[0m\u001b[0mint\u001b[0m\u001b[0;34m(\u001b[0m\u001b[0mx\u001b[0m\u001b[0;34m[\u001b[0m\u001b[0;34m'price'\u001b[0m\u001b[0;34m]\u001b[0m\u001b[0;34m)\u001b[0m\u001b[0;34m,\u001b[0m\u001b[0mint\u001b[0m\u001b[0;34m(\u001b[0m\u001b[0mround\u001b[0m\u001b[0;34m(\u001b[0m\u001b[0mfloat\u001b[0m\u001b[0;34m(\u001b[0m\u001b[0mx\u001b[0m\u001b[0;34m[\u001b[0m\u001b[0;34m'distance'\u001b[0m\u001b[0;34m]\u001b[0m\u001b[0;34m,\u001b[0m\u001b[0;36m0\u001b[0m\u001b[0;34m)\u001b[0m\u001b[0;34m)\u001b[0m\u001b[0;34m)\u001b[0m\u001b[0;34m,\u001b[0m\u001b[0ma\u001b[0m\u001b[0;34m,\u001b[0m\u001b[0mb\u001b[0m\u001b[0;34m)\u001b[0m\u001b[0;34m,\u001b[0m \u001b[0maxis\u001b[0m\u001b[0;34m=\u001b[0m\u001b[0;36m1\u001b[0m\u001b[0;34m)\u001b[0m\u001b[0;34m\u001b[0m\u001b[0;34m\u001b[0m\u001b[0m\n\u001b[0m",
      "\u001b[0;31mTypeError\u001b[0m: float expected at most 1 argument, got 2"
     ]
    }
   ],
   "source": [
    "test_data['u'] = test_data.apply(lambda x: utility(int(x['price']),int(round(float(x['distance'],0))),a,b), axis=1)"
   ]
  },
  {
   "cell_type": "code",
   "execution_count": null,
   "metadata": {},
   "outputs": [],
   "source": []
  }
 ],
 "metadata": {
  "kernelspec": {
   "display_name": "Python 3",
   "language": "python",
   "name": "python3"
  },
  "language_info": {
   "codemirror_mode": {
    "name": "ipython",
    "version": 3
   },
   "file_extension": ".py",
   "mimetype": "text/x-python",
   "name": "python",
   "nbconvert_exporter": "python",
   "pygments_lexer": "ipython3",
   "version": "3.8.3"
  }
 },
 "nbformat": 4,
 "nbformat_minor": 4
}
